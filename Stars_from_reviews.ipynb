{
  "nbformat": 4,
  "nbformat_minor": 0,
  "metadata": {
    "colab": {
      "name": "Stars from reviews.ipynb",
      "provenance": [],
      "collapsed_sections": [],
      "toc_visible": true,
      "machine_shape": "hm",
      "include_colab_link": true
    },
    "kernelspec": {
      "name": "python3",
      "display_name": "Python 3"
    }
  },
  "cells": [
    {
      "cell_type": "markdown",
      "metadata": {
        "id": "view-in-github",
        "colab_type": "text"
      },
      "source": [
        "<a href=\"https://colab.research.google.com/github/maniceet/stars-from-reviews/blob/master/Stars_from_reviews.ipynb\" target=\"_parent\"><img src=\"https://colab.research.google.com/assets/colab-badge.svg\" alt=\"Open In Colab\"/></a>"
      ]
    },
    {
      "cell_type": "code",
      "metadata": {
        "id": "4P232EUPsVOt",
        "colab_type": "code",
        "outputId": "4176571d-4645-458c-ec58-4b8664130116",
        "colab": {
          "base_uri": "https://localhost:8080/",
          "height": 35
        }
      },
      "source": [
        "from google.colab import drive\n",
        "drive.mount('/content/drive', force_remount = True)"
      ],
      "execution_count": 46,
      "outputs": [
        {
          "output_type": "stream",
          "text": [
            "Mounted at /content/drive\n"
          ],
          "name": "stdout"
        }
      ]
    },
    {
      "cell_type": "code",
      "metadata": {
        "id": "MQjz1-XWsWUq",
        "colab_type": "code",
        "outputId": "b9432af7-e84a-4e47-dd74-f34173fa2456",
        "colab": {
          "base_uri": "https://localhost:8080/",
          "height": 284
        }
      },
      "source": [
        "!pip install scikit-plot"
      ],
      "execution_count": 4,
      "outputs": [
        {
          "output_type": "stream",
          "text": [
            "Collecting scikit-plot\n",
            "  Downloading https://files.pythonhosted.org/packages/7c/47/32520e259340c140a4ad27c1b97050dd3254fdc517b1d59974d47037510e/scikit_plot-0.3.7-py3-none-any.whl\n",
            "Requirement already satisfied: scikit-learn>=0.18 in /usr/local/lib/python3.6/dist-packages (from scikit-plot) (0.21.3)\n",
            "Requirement already satisfied: matplotlib>=1.4.0 in /usr/local/lib/python3.6/dist-packages (from scikit-plot) (3.0.3)\n",
            "Requirement already satisfied: joblib>=0.10 in /usr/local/lib/python3.6/dist-packages (from scikit-plot) (0.13.2)\n",
            "Requirement already satisfied: scipy>=0.9 in /usr/local/lib/python3.6/dist-packages (from scikit-plot) (1.3.1)\n",
            "Requirement already satisfied: numpy>=1.11.0 in /usr/local/lib/python3.6/dist-packages (from scikit-learn>=0.18->scikit-plot) (1.16.5)\n",
            "Requirement already satisfied: pyparsing!=2.0.4,!=2.1.2,!=2.1.6,>=2.0.1 in /usr/local/lib/python3.6/dist-packages (from matplotlib>=1.4.0->scikit-plot) (2.4.2)\n",
            "Requirement already satisfied: kiwisolver>=1.0.1 in /usr/local/lib/python3.6/dist-packages (from matplotlib>=1.4.0->scikit-plot) (1.1.0)\n",
            "Requirement already satisfied: python-dateutil>=2.1 in /usr/local/lib/python3.6/dist-packages (from matplotlib>=1.4.0->scikit-plot) (2.5.3)\n",
            "Requirement already satisfied: cycler>=0.10 in /usr/local/lib/python3.6/dist-packages (from matplotlib>=1.4.0->scikit-plot) (0.10.0)\n",
            "Requirement already satisfied: setuptools in /usr/local/lib/python3.6/dist-packages (from kiwisolver>=1.0.1->matplotlib>=1.4.0->scikit-plot) (41.2.0)\n",
            "Requirement already satisfied: six>=1.5 in /usr/local/lib/python3.6/dist-packages (from python-dateutil>=2.1->matplotlib>=1.4.0->scikit-plot) (1.12.0)\n",
            "Installing collected packages: scikit-plot\n",
            "Successfully installed scikit-plot-0.3.7\n"
          ],
          "name": "stdout"
        }
      ]
    },
    {
      "cell_type": "code",
      "metadata": {
        "id": "qg4zeiHgs2xW",
        "colab_type": "code",
        "colab": {}
      },
      "source": [
        "#Importing Libraries\n",
        "import numpy as np\n",
        "import pandas as pd\n",
        "import seaborn as sns\n",
        "from time import time\n",
        "from tqdm import tqdm\n",
        "from matplotlib import pyplot as plt\n",
        "from sklearn.model_selection import GridSearchCV, train_test_split\n",
        "from sklearn.model_selection import RandomizedSearchCV\n",
        "from sklearn.feature_extraction.text import TfidfVectorizer, CountVectorizer\n",
        "from sklearn import preprocessing\n",
        "from sklearn.naive_bayes import MultinomialNB\n",
        "from sklearn.linear_model import SGDClassifier\n",
        "from sklearn.metrics import accuracy_score, f1_score, classification_report\n",
        "import gc\n",
        "import nltk\n",
        "import pickle\n",
        "import copy\n",
        "from textblob import TextBlob\n",
        "import re, string, unicodedata\n",
        "from bs4 import BeautifulSoup\n",
        "import spacy\n",
        "from sklearn.linear_model import LogisticRegression\n",
        "from sklearn.ensemble import RandomForestClassifier\n",
        "import scikitplot as skplt\n",
        "from joblib import Parallel, delayed\n",
        "import multiprocessing\n",
        "from nltk.stem import PorterStemmer, WordNetLemmatizer\n",
        "from sklearn.utils import resample\n",
        "from imblearn.under_sampling import RandomUnderSampler\n",
        "from collections import Counter\n",
        "nlp = spacy.load('en')\n",
        "%matplotlib inline\n",
        "np.random.seed(17)"
      ],
      "execution_count": 0,
      "outputs": []
    },
    {
      "cell_type": "code",
      "metadata": {
        "id": "YrR4ipT-3zCD",
        "colab_type": "code",
        "colab": {}
      },
      "source": [
        "#Function to evaluate model performance\n",
        "def evaluate_model_preds(y_true, y_pred):\n",
        "    \n",
        "    # F1-Score\n",
        "    f1 = f1_score(y_true, y_pred, pos_label=1, average='macro')\n",
        "    print(\"F1: \", f1)\n",
        "    print('-'*100)   \n",
        "    \n",
        "    # Accuracy\n",
        "    accuracy = accuracy_score(y_true, y_pred)\n",
        "    print(\"Accuracy: \", accuracy)\n",
        "    print('-'*100)\n",
        "    # Confusion Matrix\n",
        "    plt.figure(figsize=(10,10))\n",
        "    skplt.metrics.plot_confusion_matrix(y_true=y_true, y_pred=y_pred)\n",
        "    plt.show()\n",
        "\n",
        "    #Classification Report\n",
        "    print('-'*100)\n",
        "    print(classification_report(y_true, y_pred))"
      ],
      "execution_count": 0,
      "outputs": []
    },
    {
      "cell_type": "code",
      "metadata": {
        "id": "pweBnCYytRPD",
        "colab_type": "code",
        "outputId": "34094580-520b-427f-da03-29380404200d",
        "colab": {
          "base_uri": "https://localhost:8080/",
          "height": 204
        }
      },
      "source": [
        "data = pd.read_excel('/content/drive/My Drive/Temp/Merilytics DS test.xlsx')\n",
        "print(data.shape)\n",
        "data.head(3)"
      ],
      "execution_count": 0,
      "outputs": [
        {
          "output_type": "stream",
          "text": [
            "(668590, 9)\n"
          ],
          "name": "stdout"
        },
        {
          "output_type": "execute_result",
          "data": {
            "text/html": [
              "<div>\n",
              "<style scoped>\n",
              "    .dataframe tbody tr th:only-of-type {\n",
              "        vertical-align: middle;\n",
              "    }\n",
              "\n",
              "    .dataframe tbody tr th {\n",
              "        vertical-align: top;\n",
              "    }\n",
              "\n",
              "    .dataframe thead th {\n",
              "        text-align: right;\n",
              "    }\n",
              "</style>\n",
              "<table border=\"1\" class=\"dataframe\">\n",
              "  <thead>\n",
              "    <tr style=\"text-align: right;\">\n",
              "      <th></th>\n",
              "      <th>review_id</th>\n",
              "      <th>user_id</th>\n",
              "      <th>business_id</th>\n",
              "      <th>stars</th>\n",
              "      <th>useful</th>\n",
              "      <th>funny</th>\n",
              "      <th>cool</th>\n",
              "      <th>text</th>\n",
              "      <th>date</th>\n",
              "    </tr>\n",
              "  </thead>\n",
              "  <tbody>\n",
              "    <tr>\n",
              "      <th>0</th>\n",
              "      <td>Q1sbwvVQXV2734tPgoKj4Q</td>\n",
              "      <td>hG7b0MtEbXx5QzbzE6C_VA</td>\n",
              "      <td>ujmEBvifdJM6h6RLv4wQIg</td>\n",
              "      <td>1</td>\n",
              "      <td>6</td>\n",
              "      <td>1</td>\n",
              "      <td>0</td>\n",
              "      <td>Total bill for this horrible service? Over $8G...</td>\n",
              "      <td>2013-07-05 04:34:00</td>\n",
              "    </tr>\n",
              "    <tr>\n",
              "      <th>1</th>\n",
              "      <td>GJXCdrto3ASJOqKeVWPi6Q</td>\n",
              "      <td>yXQM5uF2jS6es16SJzNHfg</td>\n",
              "      <td>NZnhc2sEQy3RmzKTZnqtwQ</td>\n",
              "      <td>5</td>\n",
              "      <td>0</td>\n",
              "      <td>0</td>\n",
              "      <td>0</td>\n",
              "      <td>I *adore* Travis at the Hard Rock's new Kelly ...</td>\n",
              "      <td>14/01/2017 21:30</td>\n",
              "    </tr>\n",
              "    <tr>\n",
              "      <th>2</th>\n",
              "      <td>2TzJjDVDEuAW6MR5Vuc1ug</td>\n",
              "      <td>n6-Gk65cPZL6Uz8qRm3NYw</td>\n",
              "      <td>WTqjgwHlXbSFevF32_DJVw</td>\n",
              "      <td>5</td>\n",
              "      <td>3</td>\n",
              "      <td>0</td>\n",
              "      <td>0</td>\n",
              "      <td>I have to say that this office really has it t...</td>\n",
              "      <td>2016-09-11 20:09:00</td>\n",
              "    </tr>\n",
              "  </tbody>\n",
              "</table>\n",
              "</div>"
            ],
            "text/plain": [
              "                review_id  ...                 date\n",
              "0  Q1sbwvVQXV2734tPgoKj4Q  ...  2013-07-05 04:34:00\n",
              "1  GJXCdrto3ASJOqKeVWPi6Q  ...     14/01/2017 21:30\n",
              "2  2TzJjDVDEuAW6MR5Vuc1ug  ...  2016-09-11 20:09:00\n",
              "\n",
              "[3 rows x 9 columns]"
            ]
          },
          "metadata": {
            "tags": []
          },
          "execution_count": 5
        }
      ]
    },
    {
      "cell_type": "markdown",
      "metadata": {
        "id": "uLpoZlvkt06K",
        "colab_type": "text"
      },
      "source": [
        "## EDA"
      ]
    },
    {
      "cell_type": "code",
      "metadata": {
        "id": "4TuLoXYCt9gz",
        "colab_type": "code",
        "outputId": "2a169c31-9297-456e-814b-c9a6648cc29c",
        "colab": {
          "base_uri": "https://localhost:8080/",
          "height": 119
        }
      },
      "source": [
        "#Looking at stars distribution \n",
        "data.stars.value_counts()/data.shape[0]"
      ],
      "execution_count": 0,
      "outputs": [
        {
          "output_type": "execute_result",
          "data": {
            "text/plain": [
              "5    0.440642\n",
              "4    0.218496\n",
              "1    0.150559\n",
              "3    0.109587\n",
              "2    0.080716\n",
              "Name: stars, dtype: float64"
            ]
          },
          "metadata": {
            "tags": []
          },
          "execution_count": 6
        }
      ]
    },
    {
      "cell_type": "code",
      "metadata": {
        "id": "Vm5jB-zTtX75",
        "colab_type": "code",
        "outputId": "8b1c884c-590a-49c5-be1d-dfcf7660bdf4",
        "colab": {
          "base_uri": "https://localhost:8080/",
          "height": 300
        }
      },
      "source": [
        "sns.countplot(x='stars', data = data)"
      ],
      "execution_count": 0,
      "outputs": [
        {
          "output_type": "execute_result",
          "data": {
            "text/plain": [
              "<matplotlib.axes._subplots.AxesSubplot at 0x7fa24c9d8ef0>"
            ]
          },
          "metadata": {
            "tags": []
          },
          "execution_count": 7
        },
        {
          "output_type": "display_data",
          "data": {
            "image/png": "[encoded data removed]",
            "text/plain": [
              "<Figure size 432x288 with 1 Axes>"
            ]
          },
          "metadata": {
            "tags": []
          }
        }
      ]
    },
    {
      "cell_type": "code",
      "metadata": {
        "id": "MONifX6fuG3L",
        "colab_type": "code",
        "colab": {}
      },
      "source": [
        "data['len_text'] = data['text'].astype(str).apply(lambda x: len(x.split(' ')))"
      ],
      "execution_count": 0,
      "outputs": []
    },
    {
      "cell_type": "code",
      "metadata": {
        "id": "69YEOirEvZZY",
        "colab_type": "code",
        "outputId": "75778451-1937-4d99-f0aa-68504963e6b3",
        "colab": {
          "base_uri": "https://localhost:8080/",
          "height": 284
        }
      },
      "source": [
        "ax = sns.boxplot(data['len_text'])"
      ],
      "execution_count": 0,
      "outputs": [
        {
          "output_type": "display_data",
          "data": {
            "image/png": "[encoded data removed]",
            "text/plain": [
              "<Figure size 432x288 with 1 Axes>"
            ]
          },
          "metadata": {
            "tags": []
          }
        }
      ]
    },
    {
      "cell_type": "code",
      "metadata": {
        "id": "0TIS-_k5yhRw",
        "colab_type": "code",
        "outputId": "cba2fa0b-f1a9-4b6d-cd16-1996f21c6f27",
        "colab": {
          "base_uri": "https://localhost:8080/",
          "height": 285
        }
      },
      "source": [
        "sns.distplot(data['len_text']);"
      ],
      "execution_count": 0,
      "outputs": [
        {
          "output_type": "display_data",
          "data": {
            "image/png": "[encoded data removed]",
            "text/plain": [
              "<Figure size 432x288 with 1 Axes>"
            ]
          },
          "metadata": {
            "tags": []
          }
        }
      ]
    },
    {
      "cell_type": "code",
      "metadata": {
        "id": "YtIKHKNKxWi6",
        "colab_type": "code",
        "outputId": "c8c4ead7-9f94-4778-b57b-53b1c04b33d4",
        "colab": {
          "base_uri": "https://localhost:8080/",
          "height": 170
        }
      },
      "source": [
        "data['len_text'].describe()"
      ],
      "execution_count": 0,
      "outputs": [
        {
          "output_type": "execute_result",
          "data": {
            "text/plain": [
              "count    668590.000000\n",
              "mean        111.599303\n",
              "std         105.079078\n",
              "min           1.000000\n",
              "25%          44.000000\n",
              "50%          79.000000\n",
              "75%         142.000000\n",
              "max        1343.000000\n",
              "Name: len_text, dtype: float64"
            ]
          },
          "metadata": {
            "tags": []
          },
          "execution_count": 11
        }
      ]
    },
    {
      "cell_type": "code",
      "metadata": {
        "id": "Vgb0lj4ux6w1",
        "colab_type": "code",
        "outputId": "a72c65d7-02c5-46dc-efc2-5ab3e15fb9a5",
        "colab": {
          "base_uri": "https://localhost:8080/",
          "height": 71
        }
      },
      "source": [
        "print(data[data.len_text > 200].shape)\n",
        "data[data.len_text > 200].iloc[0]['text']\n"
      ],
      "execution_count": 0,
      "outputs": [
        {
          "output_type": "stream",
          "text": [
            "(91999, 10)\n"
          ],
          "name": "stdout"
        },
        {
          "output_type": "execute_result",
          "data": {
            "text/plain": [
              "\"I *adore* Travis at the Hard Rock's new Kelly Cardenas Salon!  I'm always a fan of a great blowout and no stranger to the chains that offer this service; however, Travis has taken the flawless blowout to a whole new level!  \\n\\nTravis's greets you with his perfectly green swoosh in his otherwise perfectly styled black hair and a Vegas-worthy rockstar outfit.  Next comes the most relaxing and incredible shampoo -- where you get a full head message that could cure even the very worst migraine in minutes --- and the scented shampoo room.  Travis has freakishly strong fingers (in a good way) and use the perfect amount of pressure.  That was superb!  Then starts the glorious blowout... where not one, not two, but THREE people were involved in doing the best round-brush action my hair has ever seen.  The team of stylists clearly gets along extremely well, as it's evident from the way they talk to and help one another that it's really genuine and not some corporate requirement.  It was so much fun to be there! \\n\\nNext Travis started with the flat iron.  The way he flipped his wrist to get volume all around without over-doing it and making me look like a Texas pagent girl was admirable.  It's also worth noting that he didn't fry my hair -- something that I've had happen before with less skilled stylists.  At the end of the blowout & style my hair was perfectly bouncey and looked terrific.  The only thing better?  That this awesome blowout lasted for days! \\n\\nTravis, I will see you every single time I'm out in Vegas.  You make me feel beauuuutiful!\""
            ]
          },
          "metadata": {
            "tags": []
          },
          "execution_count": 12
        }
      ]
    },
    {
      "cell_type": "code",
      "metadata": {
        "id": "ww2z3IAZ4PAl",
        "colab_type": "code",
        "outputId": "181b8015-051c-4bfd-9abf-a662109ff5ee",
        "colab": {
          "base_uri": "https://localhost:8080/",
          "height": 54
        }
      },
      "source": [
        "data[data.len_text > 1300].iloc[0]['text']"
      ],
      "execution_count": 0,
      "outputs": [
        {
          "output_type": "execute_result",
          "data": {
            "text/plain": [
              "'Solid 4.5 since giving a 5 is for above and beyond.                                                                    \\n                                                                              \\nPros:                                                                      \\n                                                                             \\n- Absolutely great fish entree options!!!           \\n                                                                              \\n- Prices reflect good portions sizes.                                    \\n                                                                               \\n- Friday burrito deal...came with Monster drink!!!                                                                     \\n                                                                              \\nCons:\\n\\n- I ordered no beans, but they promptly fixed after I discovered it from my first bite.  Would have been nice if they comp the meal, but no big deal...I am not one of those...              \\n                                                                                    \\n- N/A.                                                           \\n                                                                              \\n- Parking can be scarce due to surrounding businesses in the complex.                      \\n                                                                              \\nStar(s):                                                                                                                                    \\n                                                                                                                                                             \\n- N/A!!!'"
            ]
          },
          "metadata": {
            "tags": []
          },
          "execution_count": 14
        }
      ]
    },
    {
      "cell_type": "code",
      "metadata": {
        "id": "z5U3bS4Mypgh",
        "colab_type": "code",
        "outputId": "c2522bf6-e2df-4ca1-b6da-74caef23e8ed",
        "colab": {
          "base_uri": "https://localhost:8080/",
          "height": 187
        }
      },
      "source": [
        "print(data.useful.describe())\n",
        "print(np.quantile(data.useful, 0.975))"
      ],
      "execution_count": 0,
      "outputs": [
        {
          "output_type": "stream",
          "text": [
            "count    668590.000000\n",
            "mean          1.348044\n",
            "std           3.208699\n",
            "min           0.000000\n",
            "25%           0.000000\n",
            "50%           0.000000\n",
            "75%           2.000000\n",
            "max         303.000000\n",
            "Name: useful, dtype: float64\n",
            "8.0\n"
          ],
          "name": "stdout"
        }
      ]
    },
    {
      "cell_type": "code",
      "metadata": {
        "id": "9B_GvaSh1jRR",
        "colab_type": "code",
        "colab": {}
      },
      "source": [
        "#It seems useful goes from 0-10 and the rest are invalid numbers\n",
        "data['useful'] = np.where(data['useful'] > 10, 10, data['useful'])"
      ],
      "execution_count": 0,
      "outputs": []
    },
    {
      "cell_type": "code",
      "metadata": {
        "id": "ctEKlgY334Mg",
        "colab_type": "code",
        "outputId": "ebd3c949-92b9-4cc0-f4cf-9cc528ad1763",
        "colab": {
          "base_uri": "https://localhost:8080/",
          "height": 300
        }
      },
      "source": [
        "sns.countplot(x='useful',data = data, color = 'blue')"
      ],
      "execution_count": 0,
      "outputs": [
        {
          "output_type": "execute_result",
          "data": {
            "text/plain": [
              "<matplotlib.axes._subplots.AxesSubplot at 0x7fa248d34dd8>"
            ]
          },
          "metadata": {
            "tags": []
          },
          "execution_count": 17
        },
        {
          "output_type": "display_data",
          "data": {
            "image/png": "[encoded data removed]",
            "text/plain": [
              "<Figure size 432x288 with 1 Axes>"
            ]
          },
          "metadata": {
            "tags": []
          }
        }
      ]
    },
    {
      "cell_type": "code",
      "metadata": {
        "id": "mToz8KIY170b",
        "colab_type": "code",
        "outputId": "995a02e5-04e7-4f2e-d7d9-5d55a5b6a52d",
        "colab": {
          "base_uri": "https://localhost:8080/",
          "height": 187
        }
      },
      "source": [
        "print(data.funny.describe())\n",
        "print(np.quantile(data.funny, 0.95))"
      ],
      "execution_count": 0,
      "outputs": [
        {
          "output_type": "stream",
          "text": [
            "count    668590.000000\n",
            "mean          0.467548\n",
            "std           1.831260\n",
            "min           0.000000\n",
            "25%           0.000000\n",
            "50%           0.000000\n",
            "75%           0.000000\n",
            "max         190.000000\n",
            "Name: funny, dtype: float64\n",
            "2.0\n"
          ],
          "name": "stdout"
        }
      ]
    },
    {
      "cell_type": "code",
      "metadata": {
        "id": "R4qdAAOi2wI5",
        "colab_type": "code",
        "colab": {}
      },
      "source": [
        "#It seems funny is a binary flag and the rest are wrong entries\n",
        "data['funny'] = np.where(data['funny'] > 0, 1,0)"
      ],
      "execution_count": 0,
      "outputs": []
    },
    {
      "cell_type": "code",
      "metadata": {
        "id": "fMO81WCj3KzS",
        "colab_type": "code",
        "outputId": "4769e4d7-3465-4523-8145-a37633e831e4",
        "colab": {
          "base_uri": "https://localhost:8080/",
          "height": 300
        }
      },
      "source": [
        "sns.countplot(x='funny',data = data)"
      ],
      "execution_count": 0,
      "outputs": [
        {
          "output_type": "execute_result",
          "data": {
            "text/plain": [
              "<matplotlib.axes._subplots.AxesSubplot at 0x7fa248bdda20>"
            ]
          },
          "metadata": {
            "tags": []
          },
          "execution_count": 20
        },
        {
          "output_type": "display_data",
          "data": {
            "image/png": "[encoded data removed]",
            "text/plain": [
              "<Figure size 432x288 with 1 Axes>"
            ]
          },
          "metadata": {
            "tags": []
          }
        }
      ]
    },
    {
      "cell_type": "code",
      "metadata": {
        "id": "mIeapFgl3GOB",
        "colab_type": "code",
        "outputId": "5c4613b6-2415-4c27-e461-5030c9c9ec43",
        "colab": {
          "base_uri": "https://localhost:8080/",
          "height": 300
        }
      },
      "source": [
        "sns.countplot(x='funny',hue = 'stars', data = data)"
      ],
      "execution_count": 0,
      "outputs": [
        {
          "output_type": "execute_result",
          "data": {
            "text/plain": [
              "<matplotlib.axes._subplots.AxesSubplot at 0x7fa248c1d400>"
            ]
          },
          "metadata": {
            "tags": []
          },
          "execution_count": 21
        },
        {
          "output_type": "display_data",
          "data": {
            "image/png": "[encoded data removed]",
            "text/plain": [
              "<Figure size 432x288 with 1 Axes>"
            ]
          },
          "metadata": {
            "tags": []
          }
        }
      ]
    },
    {
      "cell_type": "code",
      "metadata": {
        "id": "J6kjO1dih4DE",
        "colab_type": "code",
        "outputId": "a7d5d629-9dc0-47a4-f79e-792895b60a08",
        "colab": {
          "base_uri": "https://localhost:8080/",
          "height": 204
        }
      },
      "source": [
        "data.isna().sum()"
      ],
      "execution_count": 0,
      "outputs": [
        {
          "output_type": "execute_result",
          "data": {
            "text/plain": [
              "review_id      8305\n",
              "user_id        8325\n",
              "business_id    8715\n",
              "stars             0\n",
              "useful            0\n",
              "funny             0\n",
              "cool              0\n",
              "text             29\n",
              "date              0\n",
              "len_text          0\n",
              "dtype: int64"
            ]
          },
          "metadata": {
            "tags": []
          },
          "execution_count": 29
        }
      ]
    },
    {
      "cell_type": "code",
      "metadata": {
        "id": "aGJPAql8h8Qn",
        "colab_type": "code",
        "colab": {}
      },
      "source": [
        "#Removing na rows as they are not a significant chunk of our population\n",
        "data.dropna(subset = ['text'], inplace = True)"
      ],
      "execution_count": 0,
      "outputs": []
    },
    {
      "cell_type": "code",
      "metadata": {
        "id": "cfaqG43biMfF",
        "colab_type": "code",
        "colab": {}
      },
      "source": [
        "def get_top_n_words(corpus, n=None):\n",
        "    vec = CountVectorizer(stop_words = 'english').fit(corpus)\n",
        "    bag_of_words = vec.transform(corpus)\n",
        "    sum_words = bag_of_words.sum(axis=0) \n",
        "    words_freq = [(word, sum_words[0, idx]) for word, idx in vec.vocabulary_.items()]\n",
        "    words_freq =sorted(words_freq, key = lambda x: x[1], reverse=True)\n",
        "    return words_freq[:n]\n",
        "common_words = get_top_n_words(data['text'], 20)"
      ],
      "execution_count": 0,
      "outputs": []
    },
    {
      "cell_type": "code",
      "metadata": {
        "id": "pCrp6JbMiUio",
        "colab_type": "code",
        "outputId": "8754b769-5f92-4309-9fd8-99be799ef4c1",
        "colab": {
          "base_uri": "https://localhost:8080/",
          "height": 299
        }
      },
      "source": [
        "plt.bar(range(len(common_words)), [val[1] for val in common_words], align='center')\n",
        "plt.xticks(range(len(common_words)), [val[0] for val in common_words])\n",
        "plt.xticks(rotation=70)\n",
        "plt.show()"
      ],
      "execution_count": 0,
      "outputs": [
        {
          "output_type": "display_data",
          "data": {
            "image/png": "[encoded data removed]",
            "text/plain": [
              "<Figure size 432x288 with 1 Axes>"
            ]
          },
          "metadata": {
            "tags": []
          }
        }
      ]
    },
    {
      "cell_type": "markdown",
      "metadata": {
        "id": "KVjqk5MV3i8m",
        "colab_type": "text"
      },
      "source": [
        "## Data Cleaning"
      ]
    },
    {
      "cell_type": "code",
      "metadata": {
        "id": "9POVf7GS3d8V",
        "colab_type": "code",
        "outputId": "8af1ad2a-5616-4e31-ae34-c897435bdf8e",
        "colab": {
          "base_uri": "https://localhost:8080/",
          "height": 462
        }
      },
      "source": [
        "#Reading a few reviews with stars\n",
        "print(data['text'][0], data['stars'][0])\n",
        "print('------------------')\n",
        "print(data['text'][345], data['stars'][345])\n",
        "print('------------------')\n",
        "print(data['text'][3235], data['stars'][3235])"
      ],
      "execution_count": 0,
      "outputs": [
        {
          "output_type": "stream",
          "text": [
            "Total bill for this horrible service? Over $8Gs. These crooks actually had the nerve to charge us $69 for 3 pills. I checked online the pills can be had for 19 cents EACH! Avoid Hospital ERs at all costs. 1\n",
            "------------------\n",
            "The food was very good . The waitress was very inventive . The only thing is my I felt so sick after eating it . I'm not sure if it's just my stomach not being able to handle it or what but I felt terrible . The staff at the front was very friendly and talkative 4\n",
            "------------------\n",
            "******************* 1955 ******************* \n",
            "\n",
            "If you are craving for Southern food, here is where you need to come. I'm not a fan of greasy food unless I'm hangover. So what's better to do than having brunch here after a long night of clubbing and strip club. You hear me right!\n",
            "\n",
            "Yardbird, a traditional Southern eatery for themed decor, chicken & waffles, grits & more, plus craft cocktails.\n",
            "\n",
            "- Waffle and Crispy Chicken, pepper jelly\n",
            "\n",
            "- Lewellyn's Fine Fried Chicken, 1/2 of our famous bird served with honey hot sauce - their infamous chicken dish.\n",
            "\n",
            "- Fried Green Tomato BLT -house smoked pork belly, smoky tomato jam, pimento cheese, frisÃ©e lemon vinaigrette - a must order.\n",
            "\n",
            "- Deviled Eggs - dill, chive, smoked trout roe\n",
            "\n",
            "- Skillet Cornbread - Vermont sharp cheddar cheese, bacon jalapeÃ±o, honey maple butter - after this, you'll be like \"WHAT HANGOVER?\" \n",
            "\n",
            "- Butter Lettuce & Grilled Mango Salad - char-grilled mango, smoked pecans, tomatoes, red onion, benne seed vinaigrette. This was such a refreshing and nice surprise dish. The flavor and texture will surely wake you up. \n",
            "\n",
            "Service was good and attentive. I'm not a Southern food person but this is 1 good solid restaurant worth to check out. \n",
            "\n",
            "Lucky for Beverly Hills LA and Singapore fan, they are opening Yardbird in your town soon. 4\n"
          ],
          "name": "stdout"
        }
      ]
    },
    {
      "cell_type": "code",
      "metadata": {
        "id": "l4aw6g_yk5_o",
        "colab_type": "code",
        "colab": {}
      },
      "source": [
        "from contraction import expand_contractions\n",
        "expand = lambda x: expand_contractions(x)"
      ],
      "execution_count": 0,
      "outputs": []
    },
    {
      "cell_type": "code",
      "metadata": {
        "id": "tDHCV86xlHPc",
        "colab_type": "code",
        "colab": {}
      },
      "source": [
        "data['text'] = data['text'].apply(expand)"
      ],
      "execution_count": 0,
      "outputs": []
    },
    {
      "cell_type": "code",
      "metadata": {
        "id": "nSYKymAEhnAY",
        "colab_type": "code",
        "colab": {}
      },
      "source": [
        "#Removing special characters and whitespaces\n",
        "def clean_text(text):\n",
        "    if not pd.isna(text):\n",
        "      # Remove HTML tags\n",
        "      text = BeautifulSoup(text, 'html.parser').get_text()\n",
        "      text = text.lower()\n",
        "      text = unicodedata.normalize('NFKD', text).encode('ascii', 'ignore').decode('utf-8', 'ignore')\n",
        "      text = re.sub(r\"\\r\\n\", \" \", text)\n",
        "      # Match alphanumerics with whitespaces\n",
        "      text = re.sub(r'[^\\w\\s]','',text, re.UNICODE)\n",
        "      text = re.sub('[^A-Za-z0-9]+', ' ', text)\n",
        "      return text\n",
        "    else:\n",
        "      return np.nan"
      ],
      "execution_count": 0,
      "outputs": []
    },
    {
      "cell_type": "code",
      "metadata": {
        "id": "Kn0RqKgqj-8V",
        "colab_type": "code",
        "outputId": "1c74b5e3-772b-4d0c-cca1-d9bb4fff284d",
        "colab": {
          "base_uri": "https://localhost:8080/",
          "height": 139
        }
      },
      "source": [
        "data['cleaned_text'] = data['text'].apply(lambda x: clean_text(x))"
      ],
      "execution_count": 0,
      "outputs": [
        {
          "output_type": "stream",
          "text": [
            "/usr/local/lib/python3.6/dist-packages/bs4/__init__.py:336: UserWarning: \"https://www.consumeraffairs.com/news/mypillow-gets-a-rude-awakening-as-the-better-business-bureau-gives-it-an-f-010517.html\" looks like a URL. Beautiful Soup is not an HTTP client. You should probably use an HTTP client like requests to get the document behind the URL, and feed that document to Beautiful Soup.\n",
            "  ' that document to Beautiful Soup.' % decoded_markup\n",
            "/usr/local/lib/python3.6/dist-packages/bs4/__init__.py:273: UserWarning: \"b'..'\" looks like a filename, not markup. You should probably open this file and pass the filehandle into Beautiful Soup.\n",
            "  ' Beautiful Soup.' % markup)\n",
            "/usr/local/lib/python3.6/dist-packages/bs4/__init__.py:273: UserWarning: \"b'.'\" looks like a filename, not markup. You should probably open this file and pass the filehandle into Beautiful Soup.\n",
            "  ' Beautiful Soup.' % markup)\n"
          ],
          "name": "stderr"
        }
      ]
    },
    {
      "cell_type": "code",
      "metadata": {
        "id": "g646mpu0qYQJ",
        "colab_type": "code",
        "outputId": "5ad5eb66-3c76-4864-c6e9-56a06a1ec43f",
        "colab": {
          "base_uri": "https://localhost:8080/",
          "height": 68
        }
      },
      "source": [
        "nltk.download('wordnet')"
      ],
      "execution_count": 0,
      "outputs": [
        {
          "output_type": "stream",
          "text": [
            "[nltk_data] Downloading package wordnet to /root/nltk_data...\n",
            "[nltk_data]   Unzipping corpora/wordnet.zip.\n"
          ],
          "name": "stdout"
        },
        {
          "output_type": "execute_result",
          "data": {
            "text/plain": [
              "True"
            ]
          },
          "metadata": {
            "tags": []
          },
          "execution_count": 50
        }
      ]
    },
    {
      "cell_type": "code",
      "metadata": {
        "id": "dj7x9Jaelc1W",
        "colab_type": "code",
        "colab": {}
      },
      "source": [
        "def lemmatize_text(text):\n",
        "    lemmatizer = WordNetLemmatizer()\n",
        "    text = ' '.join([lemmatizer.lemmatize(word, pos = 'v') for word in text.split()])\n",
        "    text = ' '.join([lemmatizer.lemmatize(word, pos = 'a') for word in text.split()])\n",
        "    return text\n",
        "\n",
        "lemma = lambda x: lemmatize_text(x)"
      ],
      "execution_count": 0,
      "outputs": []
    },
    {
      "cell_type": "code",
      "metadata": {
        "id": "iZmmeUP7qBm1",
        "colab_type": "code",
        "colab": {}
      },
      "source": [
        "data['cleaned_ml'] = data['cleaned_text'].apply(lemma)"
      ],
      "execution_count": 0,
      "outputs": []
    },
    {
      "cell_type": "code",
      "metadata": {
        "id": "2MCUzIBUkdEz",
        "colab_type": "code",
        "outputId": "6b97f38c-332f-4df7-eeb9-3f5aba3c640a",
        "colab": {
          "base_uri": "https://localhost:8080/",
          "height": 122
        }
      },
      "source": [
        "#Reading a few reviews with stars\n",
        "print(data['cleaned_text'][0], data['stars'][0])\n",
        "print('------------------')\n",
        "print(data['cleaned_text'][345], data['stars'][345])\n",
        "print('------------------')\n",
        "print(data['cleaned_text'][3235], data['stars'][3235])"
      ],
      "execution_count": 0,
      "outputs": [
        {
          "output_type": "stream",
          "text": [
            "total bill for this horrible service over 8gs these crooks actually had the nerve to charge us 69 for 3 pills i checked online the pills can be had for 19 cents each avoid hospital ers at all costs 1\n",
            "------------------\n",
            "the food was very good the waitress was very inventive the only thing is my i felt so sick after eating it i am not sure if it is just my stomach not being able to handle it or what but i felt terrible the staff at the front was very friendly and talkative 4\n",
            "------------------\n",
            " 1955 if you are craving for southern food here is where you need to come i am not a fan of greasy food unless i am hangover so what is better to do than having brunch here after a long night of clubbing and strip club you hear me right yardbird a traditional southern eatery for themed decor chicken waffles grits more plus craft cocktails waffle and crispy chicken pepper jelly lewellyns fine fried chicken 1 2 of our famous bird served with honey hot sauce their infamous chicken dish fried green tomato blt house smoked pork belly smoky tomato jam pimento cheese frisae lemon vinaigrette a must order deviled eggs dill chive smoked trout roe skillet cornbread vermont sharp cheddar cheese bacon jalapeao honey maple butter after this you will be like what hangover butter lettuce grilled mango salad char grilled mango smoked pecans tomatoes red onion benne seed vinaigrette this was such a refreshing and nice surprise dish the flavor and texture will surely wake you up service was good and attentive i am not a southern food person but this is 1 good solid restaurant worth to check out lucky for beverly hills la and singapore fan they are opening yardbird in your town soon  4\n"
          ],
          "name": "stdout"
        }
      ]
    },
    {
      "cell_type": "code",
      "metadata": {
        "id": "N81Hk-Nsqbz_",
        "colab_type": "code",
        "colab": {}
      },
      "source": [
        "#Saving cleaned data for further use\n",
        "#data.to_csv('/content/drive/My Drive/Temp/data_cleaned.csv', index = False)"
      ],
      "execution_count": 0,
      "outputs": []
    },
    {
      "cell_type": "code",
      "metadata": {
        "id": "581dJurXudXb",
        "colab_type": "code",
        "colab": {}
      },
      "source": [
        "#Loading the data\n",
        "data = pd.read_csv('/content/drive/My Drive/Temp/data_cleaned.csv')"
      ],
      "execution_count": 0,
      "outputs": []
    },
    {
      "cell_type": "code",
      "metadata": {
        "id": "GDU1AHxlzKXH",
        "colab_type": "code",
        "colab": {}
      },
      "source": [
        "data.dropna(subset = ['cleaned_text'], inplace = True)"
      ],
      "execution_count": 0,
      "outputs": []
    },
    {
      "cell_type": "code",
      "metadata": {
        "id": "Yt1bUlNHumf2",
        "colab_type": "code",
        "colab": {}
      },
      "source": [
        "#Splitting the data into train and test\n",
        "train, test = train_test_split(data, train_size = 0.8, stratify = data['stars'], random_state = 17)"
      ],
      "execution_count": 0,
      "outputs": []
    },
    {
      "cell_type": "code",
      "metadata": {
        "id": "EL0mhr14ynZo",
        "colab_type": "code",
        "outputId": "5e1f1495-c21b-43ea-f809-3904bc4f52f7",
        "colab": {
          "base_uri": "https://localhost:8080/",
          "height": 52
        }
      },
      "source": [
        "print(train.shape)\n",
        "print(test.shape)"
      ],
      "execution_count": 10,
      "outputs": [
        {
          "output_type": "stream",
          "text": [
            "(534840, 12)\n",
            "(133710, 12)\n"
          ],
          "name": "stdout"
        }
      ]
    },
    {
      "cell_type": "markdown",
      "metadata": {
        "id": "FqTG7kqnz3wB",
        "colab_type": "text"
      },
      "source": [
        "## Undersampling Train Data\n",
        "Due to class imbalance, for training we will undersample the classes to the minority class and then check performance on test set"
      ]
    },
    {
      "cell_type": "code",
      "metadata": {
        "id": "xYbeMDxBBM6L",
        "colab_type": "code",
        "outputId": "c013bb4e-0e08-4b41-d3fa-ec2402e861dc",
        "colab": {
          "base_uri": "https://localhost:8080/",
          "height": 124
        }
      },
      "source": [
        "train['stars'].value_counts()"
      ],
      "execution_count": 11,
      "outputs": [
        {
          "output_type": "execute_result",
          "data": {
            "text/plain": [
              "5    235678\n",
              "4    116860\n",
              "1     80523\n",
              "3     58611\n",
              "2     43168\n",
              "Name: stars, dtype: int64"
            ]
          },
          "metadata": {
            "tags": []
          },
          "execution_count": 11
        }
      ]
    },
    {
      "cell_type": "code",
      "metadata": {
        "id": "wsWbRZAPz3Y8",
        "colab_type": "code",
        "outputId": "2d2f862d-8d22-4479-91b8-0254ab0b3e42",
        "colab": {
          "base_uri": "https://localhost:8080/",
          "height": 124
        }
      },
      "source": [
        "train['stars'].value_counts()/train.shape[0]"
      ],
      "execution_count": 12,
      "outputs": [
        {
          "output_type": "execute_result",
          "data": {
            "text/plain": [
              "5    0.440651\n",
              "4    0.218495\n",
              "1    0.150555\n",
              "3    0.109586\n",
              "2    0.080712\n",
              "Name: stars, dtype: float64"
            ]
          },
          "metadata": {
            "tags": []
          },
          "execution_count": 12
        }
      ]
    },
    {
      "cell_type": "code",
      "metadata": {
        "id": "fZngWAUMcAyY",
        "colab_type": "code",
        "outputId": "8082f6d0-ced8-4f95-b060-dc3558f353f1",
        "colab": {
          "base_uri": "https://localhost:8080/",
          "height": 141
        }
      },
      "source": [
        "#Upsampling class 2\n",
        "df_majority = train[train.stars != 2]\n",
        "df_minority = train[train.stars == 2]\n",
        "\n",
        "df_minority_upsampled = resample(df_minority, replace = True, \n",
        "                                 n_samples = 80523,\n",
        "                                 random_state = 17\n",
        "                                )\n",
        "\n",
        "train = pd.concat([df_majority, df_minority_upsampled])\n",
        "print(train.shape)\n",
        "print(train['stars'].value_counts())"
      ],
      "execution_count": 13,
      "outputs": [
        {
          "output_type": "stream",
          "text": [
            "(572195, 12)\n",
            "5    235678\n",
            "4    116860\n",
            "2     80523\n",
            "1     80523\n",
            "3     58611\n",
            "Name: stars, dtype: int64\n"
          ],
          "name": "stdout"
        }
      ]
    },
    {
      "cell_type": "code",
      "metadata": {
        "id": "oWNTxY8WdImd",
        "colab_type": "code",
        "outputId": "92a4d9e8-5a1e-4ec7-ccff-4ae5c7cc249e",
        "colab": {
          "base_uri": "https://localhost:8080/",
          "height": 141
        }
      },
      "source": [
        "#Upsampling Class 3\n",
        "df_majority = train[train.stars != 3]\n",
        "df_minority = train[train.stars == 3]\n",
        "\n",
        "df_minority_upsampled = resample(df_minority, replace = True, \n",
        "                                 n_samples = 80523,\n",
        "                                 random_state = 17\n",
        "                                )\n",
        "\n",
        "train = pd.concat([df_majority, df_minority_upsampled])\n",
        "print(train.shape)\n",
        "print(train['stars'].value_counts())"
      ],
      "execution_count": 14,
      "outputs": [
        {
          "output_type": "stream",
          "text": [
            "(594107, 12)\n",
            "5    235678\n",
            "4    116860\n",
            "3     80523\n",
            "2     80523\n",
            "1     80523\n",
            "Name: stars, dtype: int64\n"
          ],
          "name": "stdout"
        }
      ]
    },
    {
      "cell_type": "code",
      "metadata": {
        "id": "DMuKyH4o3jGl",
        "colab_type": "code",
        "colab": {}
      },
      "source": [
        "X_ml = train['cleaned_ml'].values.reshape(-1, 1)\n",
        "X_dl = train['cleaned_text'].values.reshape(-1, 1)\n",
        "y = train['stars']"
      ],
      "execution_count": 0,
      "outputs": []
    },
    {
      "cell_type": "code",
      "metadata": {
        "id": "-cbNs6fR0ERZ",
        "colab_type": "code",
        "outputId": "c36e8071-53fb-431d-f70f-78ccdcb367f6",
        "colab": {
          "base_uri": "https://localhost:8080/",
          "height": 35
        }
      },
      "source": [
        "#Downsampling to lowest class distribution\n",
        "rus = RandomUnderSampler(random_state = 17)\n",
        "X_ml_resampled, y_ml_resampled = rus.fit_resample(X_ml, y)\n",
        "print(sorted(Counter(y_ml_resampled).items()))"
      ],
      "execution_count": 16,
      "outputs": [
        {
          "output_type": "stream",
          "text": [
            "[(1, 80523), (2, 80523), (3, 80523), (4, 80523), (5, 80523)]\n"
          ],
          "name": "stdout"
        }
      ]
    },
    {
      "cell_type": "code",
      "metadata": {
        "id": "LF45I2p-8jfW",
        "colab_type": "code",
        "outputId": "252160cb-34f2-41fe-9db9-8b6d82aa5156",
        "colab": {
          "base_uri": "https://localhost:8080/",
          "height": 35
        }
      },
      "source": [
        "rus = RandomUnderSampler(random_state = 17)\n",
        "X_dl_resampled, y_dl_resampled = rus.fit_resample(X_dl, y)\n",
        "print(sorted(Counter(y_ml_resampled).items()))"
      ],
      "execution_count": 17,
      "outputs": [
        {
          "output_type": "stream",
          "text": [
            "[(1, 80523), (2, 80523), (3, 80523), (4, 80523), (5, 80523)]\n"
          ],
          "name": "stdout"
        }
      ]
    },
    {
      "cell_type": "markdown",
      "metadata": {
        "id": "FnJoInDT3oTx",
        "colab_type": "text"
      },
      "source": [
        "## Classical NLP Model"
      ]
    },
    {
      "cell_type": "code",
      "metadata": {
        "id": "CDmxcazt3qdt",
        "colab_type": "code",
        "colab": {}
      },
      "source": [
        "vectorizer_word = TfidfVectorizer(analyzer='word', stop_words = 'english', ngram_range = (1, 3), max_features = 400000)\n",
        "vectorizer_word = vectorizer_word.fit(X_ml_resampled.ravel())"
      ],
      "execution_count": 0,
      "outputs": []
    },
    {
      "cell_type": "code",
      "metadata": {
        "id": "j628wwlFjvRN",
        "colab_type": "code",
        "colab": {}
      },
      "source": [
        "#Saving the vectorizer for use during evaluating the model on test set\n",
        "with open('/content/drive/My Drive/Temp/Models/reviews/vectorizer.pkl', 'wb') as f:\n",
        "  pickle.dump(vectorizer_word, f)"
      ],
      "execution_count": 0,
      "outputs": []
    },
    {
      "cell_type": "code",
      "metadata": {
        "id": "sNTHtGnDLto0",
        "colab_type": "code",
        "colab": {}
      },
      "source": [
        "#Loading the tf-idf vectorizer\n",
        "with open('/content/drive/My Drive/Temp/Models/reviews/vectorizer.pkl', 'rb') as f:\n",
        "  vectorizer_word = pickle.load(f)"
      ],
      "execution_count": 0,
      "outputs": []
    },
    {
      "cell_type": "code",
      "metadata": {
        "id": "Il73pZ8mLsyH",
        "colab_type": "code",
        "colab": {}
      },
      "source": [
        "X = vectorizer_word.transform(X_ml_resampled.ravel())"
      ],
      "execution_count": 0,
      "outputs": []
    },
    {
      "cell_type": "code",
      "metadata": {
        "id": "XpyeAuIGzwxW",
        "colab_type": "code",
        "outputId": "074141cf-53a4-488c-cee9-5c091ce453d5",
        "colab": {
          "base_uri": "https://localhost:8080/",
          "height": 35
        }
      },
      "source": [
        "y = y_ml_resampled\n",
        "print(X.shape)"
      ],
      "execution_count": 23,
      "outputs": [
        {
          "output_type": "stream",
          "text": [
            "(402615, 400000)\n"
          ],
          "name": "stdout"
        }
      ]
    },
    {
      "cell_type": "code",
      "metadata": {
        "id": "v_pX8KFdAbxP",
        "colab_type": "code",
        "colab": {}
      },
      "source": [
        "baseline_cv_word = GridSearchCV(MultinomialNB(), {'alpha': np.arange(0.01, 1, 0.05)}, \n",
        "                           cv=5, scoring = 'accuracy', n_jobs = -1)"
      ],
      "execution_count": 0,
      "outputs": []
    },
    {
      "cell_type": "code",
      "metadata": {
        "id": "VtIRq9DTAg7u",
        "colab_type": "code",
        "outputId": "ba1561bc-fee8-4301-fb46-b1810a948208",
        "colab": {
          "base_uri": "https://localhost:8080/",
          "height": 52
        }
      },
      "source": [
        "baseline_cv_word.fit(X,y)\n",
        "print(baseline_cv_word.best_params_)\n",
        "print(f\"Baseline score is {baseline_cv_word.best_score_}\")"
      ],
      "execution_count": 25,
      "outputs": [
        {
          "output_type": "stream",
          "text": [
            "{'alpha': 0.01}\n",
            "Baseline score is 0.6662791997317536\n"
          ],
          "name": "stdout"
        }
      ]
    },
    {
      "cell_type": "code",
      "metadata": {
        "id": "0L-6-ChhAhut",
        "colab_type": "code",
        "outputId": "3d6e9ca8-202a-4999-abaa-071ad9e34f08",
        "colab": {
          "base_uri": "https://localhost:8080/",
          "height": 52
        }
      },
      "source": [
        "X_train, X_val, y_train, y_val = train_test_split(X,y, train_size = 0.9, \n",
        "                                                  random_state = 17, stratify = y)\n",
        "print(X_train.shape)\n",
        "print(X_val.shape)"
      ],
      "execution_count": 26,
      "outputs": [
        {
          "output_type": "stream",
          "text": [
            "(362353, 400000)\n",
            "(40262, 400000)\n"
          ],
          "name": "stdout"
        }
      ]
    },
    {
      "cell_type": "code",
      "metadata": {
        "id": "NAuNp2zhAkTq",
        "colab_type": "code",
        "colab": {}
      },
      "source": [
        "nb_clf_word = MultinomialNB(alpha= 0.01).fit(X_train, y_train)"
      ],
      "execution_count": 0,
      "outputs": []
    },
    {
      "cell_type": "code",
      "metadata": {
        "id": "S9ydtpHUAnAj",
        "colab_type": "code",
        "colab": {}
      },
      "source": [
        "with open('/content/drive/My Drive/Temp/Models/reviews/nb_word.model', 'wb') as f:\n",
        "  pickle.dump(nb_clf_word, f)"
      ],
      "execution_count": 0,
      "outputs": []
    },
    {
      "cell_type": "code",
      "metadata": {
        "id": "k-EbGpRWA0aK",
        "colab_type": "code",
        "outputId": "b7f18731-06a8-49c1-c216-33bc45d5140e",
        "colab": {
          "base_uri": "https://localhost:8080/",
          "height": 615
        }
      },
      "source": [
        "preds_nb = nb_clf_word.predict(X_val)\n",
        "evaluate_model_preds(y_val, preds_nb)"
      ],
      "execution_count": 29,
      "outputs": [
        {
          "output_type": "stream",
          "text": [
            "F1:  0.6741848495236198\n",
            "----------------------------------------------------------------------------------------------------\n",
            "Accuracy:  0.6731409269286176\n",
            "----------------------------------------------------------------------------------------------------\n"
          ],
          "name": "stdout"
        },
        {
          "output_type": "display_data",
          "data": {
            "text/plain": [
              "<Figure size 720x720 with 0 Axes>"
            ]
          },
          "metadata": {
            "tags": []
          }
        },
        {
          "output_type": "display_data",
          "data": {
            "image/png": "[encoded data removed]",
            "text/plain": [
              "<Figure size 432x288 with 2 Axes>"
            ]
          },
          "metadata": {
            "tags": []
          }
        },
        {
          "output_type": "stream",
          "text": [
            "----------------------------------------------------------------------------------------------------\n",
            "              precision    recall  f1-score   support\n",
            "\n",
            "           1       0.69      0.75      0.72      8052\n",
            "           2       0.73      0.71      0.72      8053\n",
            "           3       0.70      0.68      0.69      8052\n",
            "           4       0.54      0.63      0.58      8053\n",
            "           5       0.74      0.59      0.66      8052\n",
            "\n",
            "    accuracy                           0.67     40262\n",
            "   macro avg       0.68      0.67      0.67     40262\n",
            "weighted avg       0.68      0.67      0.67     40262\n",
            "\n"
          ],
          "name": "stdout"
        }
      ]
    },
    {
      "cell_type": "markdown",
      "metadata": {
        "id": "mwHrcTzvA8cS",
        "colab_type": "text"
      },
      "source": [
        "**Decent results with naive bayes, Almost similar F1 scores across classes except for class 4.Lets see what logistic regression does**"
      ]
    },
    {
      "cell_type": "code",
      "metadata": {
        "id": "4J_c1bCv8ZY1",
        "colab_type": "code",
        "colab": {}
      },
      "source": [
        "log_reg = LogisticRegression(dual = False, solver = 'saga', multi_class= 'multinomial', max_iter= 1000)"
      ],
      "execution_count": 0,
      "outputs": []
    },
    {
      "cell_type": "code",
      "metadata": {
        "id": "rgQtqbMR8ZKc",
        "colab_type": "code",
        "outputId": "c84bc939-9186-4ff2-a5e4-0d86f52311f2",
        "colab": {
          "base_uri": "https://localhost:8080/",
          "height": 106
        }
      },
      "source": [
        "log_reg.fit(X_train, y_train)"
      ],
      "execution_count": 44,
      "outputs": [
        {
          "output_type": "execute_result",
          "data": {
            "text/plain": [
              "LogisticRegression(C=1.0, class_weight=None, dual=False, fit_intercept=True,\n",
              "                   intercept_scaling=1, l1_ratio=None, max_iter=1000,\n",
              "                   multi_class='multinomial', n_jobs=None, penalty='l2',\n",
              "                   random_state=None, solver='saga', tol=0.0001, verbose=0,\n",
              "                   warm_start=False)"
            ]
          },
          "metadata": {
            "tags": []
          },
          "execution_count": 44
        }
      ]
    },
    {
      "cell_type": "code",
      "metadata": {
        "id": "_yFMHv8p8ZHh",
        "colab_type": "code",
        "colab": {}
      },
      "source": [
        "with open('/content/drive/My Drive/Temp/Models/reviews/log_reg.model', 'wb') as f:\n",
        "  pickle.dump(log_reg, f)"
      ],
      "execution_count": 0,
      "outputs": []
    },
    {
      "cell_type": "code",
      "metadata": {
        "id": "79niHjni8uia",
        "colab_type": "code",
        "outputId": "2e4be724-2a70-4ad8-cd60-bfa0329a591a",
        "colab": {
          "base_uri": "https://localhost:8080/",
          "height": 615
        }
      },
      "source": [
        "#Checking performance on train set\n",
        "preds_lr = log_reg.predict(X_train)\n",
        "evaluate_model_preds(y_train, preds_lr)"
      ],
      "execution_count": 48,
      "outputs": [
        {
          "output_type": "stream",
          "text": [
            "F1:  0.8431733492994662\n",
            "----------------------------------------------------------------------------------------------------\n",
            "Accuracy:  0.8434068436027852\n",
            "----------------------------------------------------------------------------------------------------\n"
          ],
          "name": "stdout"
        },
        {
          "output_type": "display_data",
          "data": {
            "text/plain": [
              "<Figure size 720x720 with 0 Axes>"
            ]
          },
          "metadata": {
            "tags": []
          }
        },
        {
          "output_type": "display_data",
          "data": {
            "image/png": "[encoded data removed]",
            "text/plain": [
              "<Figure size 432x288 with 2 Axes>"
            ]
          },
          "metadata": {
            "tags": []
          }
        },
        {
          "output_type": "stream",
          "text": [
            "----------------------------------------------------------------------------------------------------\n",
            "              precision    recall  f1-score   support\n",
            "\n",
            "           1       0.87      0.89      0.88     72471\n",
            "           2       0.86      0.87      0.87     72470\n",
            "           3       0.85      0.84      0.85     72471\n",
            "           4       0.79      0.77      0.78     72470\n",
            "           5       0.84      0.84      0.84     72471\n",
            "\n",
            "    accuracy                           0.84    362353\n",
            "   macro avg       0.84      0.84      0.84    362353\n",
            "weighted avg       0.84      0.84      0.84    362353\n",
            "\n"
          ],
          "name": "stdout"
        }
      ]
    },
    {
      "cell_type": "code",
      "metadata": {
        "id": "XjGX67zy8v46",
        "colab_type": "code",
        "outputId": "f80029de-741c-4b47-e276-6ae9676d0722",
        "colab": {
          "base_uri": "https://localhost:8080/",
          "height": 615
        }
      },
      "source": [
        "#Checking performance on validation\n",
        "preds_lr = log_reg.predict(X_val)\n",
        "evaluate_model_preds(y_val, preds_lr)"
      ],
      "execution_count": 49,
      "outputs": [
        {
          "output_type": "stream",
          "text": [
            "F1:  0.7086547317493259\n",
            "----------------------------------------------------------------------------------------------------\n",
            "Accuracy:  0.709378570364115\n",
            "----------------------------------------------------------------------------------------------------\n"
          ],
          "name": "stdout"
        },
        {
          "output_type": "display_data",
          "data": {
            "text/plain": [
              "<Figure size 720x720 with 0 Axes>"
            ]
          },
          "metadata": {
            "tags": []
          }
        },
        {
          "output_type": "display_data",
          "data": {
            "image/png": "[encoded data removed]",
            "text/plain": [
              "<Figure size 432x288 with 2 Axes>"
            ]
          },
          "metadata": {
            "tags": []
          }
        },
        {
          "output_type": "stream",
          "text": [
            "----------------------------------------------------------------------------------------------------\n",
            "              precision    recall  f1-score   support\n",
            "\n",
            "           1       0.79      0.80      0.80      8052\n",
            "           2       0.73      0.75      0.74      8053\n",
            "           3       0.71      0.69      0.70      8052\n",
            "           4       0.60      0.58      0.59      8053\n",
            "           5       0.72      0.73      0.73      8052\n",
            "\n",
            "    accuracy                           0.71     40262\n",
            "   macro avg       0.71      0.71      0.71     40262\n",
            "weighted avg       0.71      0.71      0.71     40262\n",
            "\n"
          ],
          "name": "stdout"
        }
      ]
    },
    {
      "cell_type": "markdown",
      "metadata": {
        "id": "kHTCXqKRQfGx",
        "colab_type": "text"
      },
      "source": [
        "**Slightly better performance than naive bayes, both classical nlp models struggle with class 4**"
      ]
    },
    {
      "cell_type": "markdown",
      "metadata": {
        "id": "BbXVG_dv3q-z",
        "colab_type": "text"
      },
      "source": [
        "## Deep Learning Models"
      ]
    },
    {
      "cell_type": "code",
      "metadata": {
        "id": "aSwDRUT6mBAk",
        "colab_type": "code",
        "colab": {}
      },
      "source": [
        "dl_df = pd.DataFrame(X_dl_resampled, columns = ['text'])\n",
        "dl_df['stars'] = y_dl_resampled"
      ],
      "execution_count": 0,
      "outputs": []
    },
    {
      "cell_type": "code",
      "metadata": {
        "id": "rk8uutM4Q1lC",
        "colab_type": "code",
        "outputId": "6cb8dcd1-944f-4f5a-dc07-a3d7f623a607",
        "colab": {
          "base_uri": "https://localhost:8080/",
          "height": 35
        }
      },
      "source": [
        "dl_df.shape"
      ],
      "execution_count": 0,
      "outputs": [
        {
          "output_type": "execute_result",
          "data": {
            "text/plain": [
              "(402615, 2)"
            ]
          },
          "metadata": {
            "tags": []
          },
          "execution_count": 17
        }
      ]
    },
    {
      "cell_type": "code",
      "metadata": {
        "id": "P3568XM5mKUO",
        "colab_type": "code",
        "colab": {}
      },
      "source": [
        "train_df, valid_df = train_test_split(dl_df, test_size = 0.1, stratify = dl_df['stars'],\n",
        "                                      random_state = 17)"
      ],
      "execution_count": 0,
      "outputs": []
    },
    {
      "cell_type": "markdown",
      "metadata": {
        "id": "I3VakYHwl9Pa",
        "colab_type": "text"
      },
      "source": [
        "#### ULM Fit"
      ]
    },
    {
      "cell_type": "code",
      "metadata": {
        "id": "QqTSeOsi3s40",
        "colab_type": "code",
        "colab": {}
      },
      "source": [
        "from functools import reduce\n",
        "from fastai.text import *\n",
        "from fastai.callbacks import *\n",
        "from fastai import *\n",
        "from fastai.metrics import *"
      ],
      "execution_count": 0,
      "outputs": []
    },
    {
      "cell_type": "code",
      "metadata": {
        "id": "wSfG1E7tmOD2",
        "colab_type": "code",
        "colab": {}
      },
      "source": [
        "torch.cuda.empty_cache()"
      ],
      "execution_count": 0,
      "outputs": []
    },
    {
      "cell_type": "code",
      "metadata": {
        "id": "qZlkBS84mQMk",
        "colab_type": "code",
        "colab": {}
      },
      "source": [
        "bs = 128\n",
        "# Language model data\n",
        "data_lm = TextLMDataBunch.from_df(path = os.getcwd(),train_df = train_df, valid_df = valid_df, text_cols= 'text', label_cols= 'stars')\n",
        "\n",
        "data_lm.save('data_lm.pkl')"
      ],
      "execution_count": 0,
      "outputs": []
    },
    {
      "cell_type": "code",
      "metadata": {
        "id": "1ZS5QN4GnHT2",
        "colab_type": "code",
        "outputId": "2a8e06e1-1bcd-4744-92df-e0658c0e7a2a",
        "colab": {
          "base_uri": "https://localhost:8080/",
          "height": 93
        }
      },
      "source": [
        "data_lm.show_batch(1)"
      ],
      "execution_count": 0,
      "outputs": [
        {
          "output_type": "display_data",
          "data": {
            "text/html": [
              "<table border=\"1\" class=\"dataframe\">\n",
              "  <thead>\n",
              "    <tr style=\"text-align: right;\">\n",
              "      <th>idx</th>\n",
              "      <th>text</th>\n",
              "    </tr>\n",
              "  </thead>\n",
              "  <tbody>\n",
              "    <tr>\n",
              "      <td>0</td>\n",
              "      <td>i said it a little louder and he swung around and said do not you yell at me no one yells at me we were looking for the total amount we needed to pay and he apparently forgot to push that button he was every kind of awful person you would ever want to meet and sarcastic as well hopefully he will not be employed there much longer it is</td>\n",
              "    </tr>\n",
              "  </tbody>\n",
              "</table>"
            ],
            "text/plain": [
              "<IPython.core.display.HTML object>"
            ]
          },
          "metadata": {
            "tags": []
          }
        }
      ]
    },
    {
      "cell_type": "code",
      "metadata": {
        "id": "DxwDRGr6RDJk",
        "colab_type": "code",
        "colab": {}
      },
      "source": [
        "learn = language_model_learner(data_lm, AWD_LSTM, drop_mult=0.2)"
      ],
      "execution_count": 0,
      "outputs": []
    },
    {
      "cell_type": "code",
      "metadata": {
        "id": "kkbBSPlLRDGz",
        "colab_type": "code",
        "outputId": "05cb90a1-ad84-455d-ec50-be922e7d8925",
        "colab": {
          "base_uri": "https://localhost:8080/",
          "height": 336
        }
      },
      "source": [
        "learn.lr_find()\n",
        "learn.recorder.plot(skip_end=15, suggestion = True)"
      ],
      "execution_count": 0,
      "outputs": [
        {
          "output_type": "display_data",
          "data": {
            "text/html": [
              ""
            ],
            "text/plain": [
              "<IPython.core.display.HTML object>"
            ]
          },
          "metadata": {
            "tags": []
          }
        },
        {
          "output_type": "stream",
          "text": [
            "LR Finder is complete, type {learner_name}.recorder.plot() to see the graph.\n",
            "Min numerical gradient: 9.12E-03\n",
            "Min loss divided by 10: 1.45E-02\n"
          ],
          "name": "stdout"
        },
        {
          "output_type": "display_data",
          "data": {
            "image/png": "[encoded data removed]",
            "text/plain": [
              "<Figure size 432x288 with 1 Axes>"
            ]
          },
          "metadata": {
            "tags": []
          }
        }
      ]
    },
    {
      "cell_type": "code",
      "metadata": {
        "id": "pnk3oW_gRDEj",
        "colab_type": "code",
        "outputId": "af7d3bcc-c40d-4a69-c395-a78b8e5f50f7",
        "colab": {
          "base_uri": "https://localhost:8080/",
          "height": 342
        }
      },
      "source": [
        "learn.fit_one_cycle(1, max_lr = 1e-2, moms=(0.8,0.7))\n",
        "learn.recorder.plot_losses()"
      ],
      "execution_count": 0,
      "outputs": [
        {
          "output_type": "display_data",
          "data": {
            "text/html": [
              "<table border=\"1\" class=\"dataframe\">\n",
              "  <thead>\n",
              "    <tr style=\"text-align: left;\">\n",
              "      <th>epoch</th>\n",
              "      <th>train_loss</th>\n",
              "      <th>valid_loss</th>\n",
              "      <th>accuracy</th>\n",
              "      <th>time</th>\n",
              "    </tr>\n",
              "  </thead>\n",
              "  <tbody>\n",
              "    <tr>\n",
              "      <td>0</td>\n",
              "      <td>4.460498</td>\n",
              "      <td>4.362292</td>\n",
              "      <td>0.231305</td>\n",
              "      <td>2:06:14</td>\n",
              "    </tr>\n",
              "  </tbody>\n",
              "</table>"
            ],
            "text/plain": [
              "<IPython.core.display.HTML object>"
            ]
          },
          "metadata": {
            "tags": []
          }
        },
        {
          "output_type": "display_data",
          "data": {
            "image/png": "[encoded data removed]",
            "text/plain": [
              "<Figure size 432x288 with 1 Axes>"
            ]
          },
          "metadata": {
            "tags": []
          }
        }
      ]
    },
    {
      "cell_type": "code",
      "metadata": {
        "id": "m-9kM0aVRDA-",
        "colab_type": "code",
        "colab": {}
      },
      "source": [
        "learn.save('/content/drive/My Drive/Temp/Models/reviews/first_lm')"
      ],
      "execution_count": 0,
      "outputs": []
    },
    {
      "cell_type": "code",
      "metadata": {
        "id": "httEzDuywvQQ",
        "colab_type": "code",
        "colab": {}
      },
      "source": [
        "learn.load('/content/drive/My Drive/Temp/Models/reviews/first_lm');"
      ],
      "execution_count": 0,
      "outputs": []
    },
    {
      "cell_type": "code",
      "metadata": {
        "id": "YDVZMdCqwnmQ",
        "colab_type": "code",
        "outputId": "71f154ba-92e9-41fe-93dd-f45dbd2c9097",
        "colab": {
          "base_uri": "https://localhost:8080/",
          "height": 140
        }
      },
      "source": [
        "learn.unfreeze()\n",
        "learn.fit_one_cycle(2, slice(1e-2/(2.6**4), 1e-2), moms=(0.8,0.7))\n",
        "learn.recorder.plot_losses()"
      ],
      "execution_count": 0,
      "outputs": [
        {
          "output_type": "display_data",
          "data": {
            "text/html": [
              "\n",
              "    <div>\n",
              "        <style>\n",
              "            /* Turns off some styling */\n",
              "            progress {\n",
              "                /* gets rid of default border in Firefox and Opera. */\n",
              "                border: none;\n",
              "                /* Needs to be in here for Safari polyfill so background images work as expected. */\n",
              "                background-size: auto;\n",
              "            }\n",
              "            .progress-bar-interrupted, .progress-bar-interrupted::-webkit-progress-bar {\n",
              "                background: #F44336;\n",
              "            }\n",
              "        </style>\n",
              "      <progress value='1' class='' max='2', style='width:300px; height:20px; vertical-align: middle;'></progress>\n",
              "      50.00% [1/2 2:32:57<2:32:57]\n",
              "    </div>\n",
              "    \n",
              "<table border=\"1\" class=\"dataframe\">\n",
              "  <thead>\n",
              "    <tr style=\"text-align: left;\">\n",
              "      <th>epoch</th>\n",
              "      <th>train_loss</th>\n",
              "      <th>valid_loss</th>\n",
              "      <th>accuracy</th>\n",
              "      <th>time</th>\n",
              "    </tr>\n",
              "  </thead>\n",
              "  <tbody>\n",
              "    <tr>\n",
              "      <td>0</td>\n",
              "      <td>4.054261</td>\n",
              "      <td>4.014531</td>\n",
              "      <td>0.272013</td>\n",
              "      <td>2:32:57</td>\n",
              "    </tr>\n",
              "  </tbody>\n",
              "</table><p>\n",
              "\n",
              "    <div>\n",
              "        <style>\n",
              "            /* Turns off some styling */\n",
              "            progress {\n",
              "                /* gets rid of default border in Firefox and Opera. */\n",
              "                border: none;\n",
              "                /* Needs to be in here for Safari polyfill so background images work as expected. */\n",
              "                background-size: auto;\n",
              "            }\n",
              "            .progress-bar-interrupted, .progress-bar-interrupted::-webkit-progress-bar {\n",
              "                background: #F44336;\n",
              "            }\n",
              "        </style>\n",
              "      <progress value='8922' class='' max='10171', style='width:300px; height:20px; vertical-align: middle;'></progress>\n",
              "      87.72% [8922/10171 2:09:08<18:04 3.8619]\n",
              "    </div>\n",
              "    "
            ],
            "text/plain": [
              "<IPython.core.display.HTML object>"
            ]
          },
          "metadata": {
            "tags": []
          }
        },
        {
          "output_type": "stream",
          "text": [
            "Buffered data was truncated after reaching the output size limit."
          ],
          "name": "stdout"
        }
      ]
    },
    {
      "cell_type": "code",
      "metadata": {
        "id": "WyGGuxRtw57i",
        "colab_type": "code",
        "colab": {}
      },
      "source": [
        "learn.save('/content/drive/My Drive/Temp/Models/reviews/fine_tuned_lm')"
      ],
      "execution_count": 0,
      "outputs": []
    },
    {
      "cell_type": "code",
      "metadata": {
        "id": "E6H6_8Q4w_PU",
        "colab_type": "code",
        "colab": {}
      },
      "source": [
        "learn.save_encoder('/content/drive/My Drive/Temp/Models/reviews/fine_tuned_enc')"
      ],
      "execution_count": 0,
      "outputs": []
    },
    {
      "cell_type": "code",
      "metadata": {
        "id": "kru_HPblWUjj",
        "colab_type": "code",
        "colab": {}
      },
      "source": [
        "data_clas = TextClasDataBunch.from_df(path = os.getcwd(), train_df = train_df, \n",
        "          valid_df = valid_df, text_cols= 'text', label_cols= 'stars', \n",
        "          classes = [1,2,3,4,5], bs=128)"
      ],
      "execution_count": 0,
      "outputs": []
    },
    {
      "cell_type": "code",
      "metadata": {
        "id": "XIt_UsRvY6yU",
        "colab_type": "code",
        "colab": {}
      },
      "source": [
        "path = os.getcwd()"
      ],
      "execution_count": 0,
      "outputs": []
    },
    {
      "cell_type": "code",
      "metadata": {
        "id": "oAENo95KWZi1",
        "colab_type": "code",
        "colab": {}
      },
      "source": [
        "data_clas.save('data_clas.pkl')\n"
      ],
      "execution_count": 0,
      "outputs": []
    },
    {
      "cell_type": "code",
      "metadata": {
        "id": "FrWug9h168m7",
        "colab_type": "code",
        "outputId": "00d08227-9dbc-45d3-ecd9-7b7ace4034ad",
        "colab": {
          "base_uri": "https://localhost:8080/",
          "height": 140
        }
      },
      "source": [
        "data_clas = load_data(path, 'data_clas.pkl', bs=32)\n",
        "data_clas.show_batch(2)"
      ],
      "execution_count": 0,
      "outputs": [
        {
          "output_type": "display_data",
          "data": {
            "text/html": [
              "<table border=\"1\" class=\"dataframe\">\n",
              "  <thead>\n",
              "    <tr style=\"text-align: right;\">\n",
              "      <th>text</th>\n",
              "      <th>target</th>\n",
              "    </tr>\n",
              "  </thead>\n",
              "  <tbody>\n",
              "    <tr>\n",
              "      <td>xxbos i had the worst experience of my life using hertz i will not only never ever use them again but when all my friends and family heard what happened to me they will not use you either in fear of what happened i select to be picked up on the website it asks me to give the address of where i would like to be picked up and the</td>\n",
              "      <td>1</td>\n",
              "    </tr>\n",
              "    <tr>\n",
              "      <td>xxbos read this dr xxunk was wonderful and kind this is why it is such a shame that the rest of my experience was beyond horrifying i saw the doctor friday march 16 2018 i was told to come back for a follow up to see if my bone was healing i returned today monday april 2 2018 for my follow up appointment i paid my 60 copay and then</td>\n",
              "      <td>1</td>\n",
              "    </tr>\n",
              "  </tbody>\n",
              "</table>"
            ],
            "text/plain": [
              "<IPython.core.display.HTML object>"
            ]
          },
          "metadata": {
            "tags": []
          }
        }
      ]
    },
    {
      "cell_type": "code",
      "metadata": {
        "id": "IcTgfVMWWej2",
        "colab_type": "code",
        "colab": {}
      },
      "source": [
        "learn = text_classifier_learner(data_clas, AWD_LSTM, drop_mult=0.3)\n",
        "learn.load_encoder('/content/drive/My Drive/Temp/Models/reviews/fine_tuned_enc');\n",
        "learn.freeze()"
      ],
      "execution_count": 0,
      "outputs": []
    },
    {
      "cell_type": "code",
      "metadata": {
        "id": "Xq66mIx9Wehg",
        "colab_type": "code",
        "outputId": "208e8557-dbcb-4baa-dc16-80b5d8f5d82e",
        "colab": {
          "base_uri": "https://localhost:8080/",
          "height": 336
        }
      },
      "source": [
        "learn.lr_find()\n",
        "learn.recorder.plot(suggestion= True, skip_end=15)"
      ],
      "execution_count": 0,
      "outputs": [
        {
          "output_type": "display_data",
          "data": {
            "text/html": [
              ""
            ],
            "text/plain": [
              "<IPython.core.display.HTML object>"
            ]
          },
          "metadata": {
            "tags": []
          }
        },
        {
          "output_type": "stream",
          "text": [
            "LR Finder is complete, type {learner_name}.recorder.plot() to see the graph.\n",
            "Min numerical gradient: 9.12E-03\n",
            "Min loss divided by 10: 1.20E-02\n"
          ],
          "name": "stdout"
        },
        {
          "output_type": "display_data",
          "data": {
            "image/png": "[encoded data removed]",
            "text/plain": [
              "<Figure size 432x288 with 1 Axes>"
            ]
          },
          "metadata": {
            "tags": []
          }
        }
      ]
    },
    {
      "cell_type": "code",
      "metadata": {
        "id": "BShXCGAnWefI",
        "colab_type": "code",
        "outputId": "ab74b92e-872c-4a8c-f4bc-f965bbac5d1d",
        "colab": {
          "base_uri": "https://localhost:8080/",
          "height": 140
        }
      },
      "source": [
        "learn.fit_one_cycle(2, slice(1e-2/(2.6**4),1e-2), moms=(0.8,0.7))\n",
        "learn.recorder.plot_losses()"
      ],
      "execution_count": 0,
      "outputs": [
        {
          "output_type": "display_data",
          "data": {
            "text/html": [
              "\n",
              "    <div>\n",
              "        <style>\n",
              "            /* Turns off some styling */\n",
              "            progress {\n",
              "                /* gets rid of default border in Firefox and Opera. */\n",
              "                border: none;\n",
              "                /* Needs to be in here for Safari polyfill so background images work as expected. */\n",
              "                background-size: auto;\n",
              "            }\n",
              "            .progress-bar-interrupted, .progress-bar-interrupted::-webkit-progress-bar {\n",
              "                background: #F44336;\n",
              "            }\n",
              "        </style>\n",
              "      <progress value='1' class='' max='2', style='width:300px; height:20px; vertical-align: middle;'></progress>\n",
              "      50.00% [1/2 52:41<52:41]\n",
              "    </div>\n",
              "    \n",
              "<table border=\"1\" class=\"dataframe\">\n",
              "  <thead>\n",
              "    <tr style=\"text-align: left;\">\n",
              "      <th>epoch</th>\n",
              "      <th>train_loss</th>\n",
              "      <th>valid_loss</th>\n",
              "      <th>accuracy</th>\n",
              "      <th>time</th>\n",
              "    </tr>\n",
              "  </thead>\n",
              "  <tbody>\n",
              "    <tr>\n",
              "      <td>0</td>\n",
              "      <td>1.298297</td>\n",
              "      <td>1.210647</td>\n",
              "      <td>0.475063</td>\n",
              "      <td>52:41</td>\n",
              "    </tr>\n",
              "  </tbody>\n",
              "</table><p>\n",
              "\n",
              "    <div>\n",
              "        <style>\n",
              "            /* Turns off some styling */\n",
              "            progress {\n",
              "                /* gets rid of default border in Firefox and Opera. */\n",
              "                border: none;\n",
              "                /* Needs to be in here for Safari polyfill so background images work as expected. */\n",
              "                background-size: auto;\n",
              "            }\n",
              "            .progress-bar-interrupted, .progress-bar-interrupted::-webkit-progress-bar {\n",
              "                background: #F44336;\n",
              "            }\n",
              "        </style>\n",
              "      <progress value='7749' class='' max='11323', style='width:300px; height:20px; vertical-align: middle;'></progress>\n",
              "      68.44% [7749/11323 36:42<16:55 1.2361]\n",
              "    </div>\n",
              "    "
            ],
            "text/plain": [
              "<IPython.core.display.HTML object>"
            ]
          },
          "metadata": {
            "tags": []
          }
        },
        {
          "output_type": "stream",
          "text": [
            "Buffered data was truncated after reaching the output size limit."
          ],
          "name": "stdout"
        }
      ]
    },
    {
      "cell_type": "code",
      "metadata": {
        "id": "oYWc8Rsuf9ca",
        "colab_type": "code",
        "colab": {}
      },
      "source": [
        "learn.save('/content/drive/My Drive/Temp/Models/reviews/first_classifier')"
      ],
      "execution_count": 0,
      "outputs": []
    },
    {
      "cell_type": "code",
      "metadata": {
        "id": "ljOcTAayf-H7",
        "colab_type": "code",
        "colab": {}
      },
      "source": [
        "learn.load('/content/drive/My Drive/Temp/Models/reviews/first_classifier');"
      ],
      "execution_count": 0,
      "outputs": []
    },
    {
      "cell_type": "code",
      "metadata": {
        "id": "Uoan_EZrWebG",
        "colab_type": "code",
        "outputId": "8b0c0c5d-878d-4577-d33b-f23c47d7508b",
        "colab": {
          "base_uri": "https://localhost:8080/",
          "height": 336
        }
      },
      "source": [
        "learn.lr_find()\n",
        "learn.recorder.plot(suggestion= True, skip_end=15)"
      ],
      "execution_count": 0,
      "outputs": [
        {
          "output_type": "display_data",
          "data": {
            "text/html": [
              ""
            ],
            "text/plain": [
              "<IPython.core.display.HTML object>"
            ]
          },
          "metadata": {
            "tags": []
          }
        },
        {
          "output_type": "stream",
          "text": [
            "LR Finder is complete, type {learner_name}.recorder.plot() to see the graph.\n",
            "Min numerical gradient: 3.63E-03\n",
            "Min loss divided by 10: 6.31E-08\n"
          ],
          "name": "stdout"
        },
        {
          "output_type": "display_data",
          "data": {
            "image/png": "[encoded data removed]",
            "text/plain": [
              "<Figure size 432x288 with 1 Axes>"
            ]
          },
          "metadata": {
            "tags": []
          }
        }
      ]
    },
    {
      "cell_type": "code",
      "metadata": {
        "id": "TLzWn8IMWeSs",
        "colab_type": "code",
        "outputId": "c899a3d0-d5eb-467a-ba45-fed98114c297",
        "colab": {
          "base_uri": "https://localhost:8080/",
          "height": 76
        }
      },
      "source": [
        "learn.freeze_to(-2)\n",
        "learn.fit_one_cycle(1, 3e-3, moms=(0.8,0.7))"
      ],
      "execution_count": 0,
      "outputs": [
        {
          "output_type": "display_data",
          "data": {
            "text/html": [
              "<table border=\"1\" class=\"dataframe\">\n",
              "  <thead>\n",
              "    <tr style=\"text-align: left;\">\n",
              "      <th>epoch</th>\n",
              "      <th>train_loss</th>\n",
              "      <th>valid_loss</th>\n",
              "      <th>accuracy</th>\n",
              "      <th>time</th>\n",
              "    </tr>\n",
              "  </thead>\n",
              "  <tbody>\n",
              "    <tr>\n",
              "      <td>0</td>\n",
              "      <td>0.889496</td>\n",
              "      <td>0.820282</td>\n",
              "      <td>0.649670</td>\n",
              "      <td>58:32</td>\n",
              "    </tr>\n",
              "  </tbody>\n",
              "</table>"
            ],
            "text/plain": [
              "<IPython.core.display.HTML object>"
            ]
          },
          "metadata": {
            "tags": []
          }
        }
      ]
    },
    {
      "cell_type": "code",
      "metadata": {
        "id": "vUBvkAtV5Rr4",
        "colab_type": "code",
        "outputId": "703e3df0-2888-4aef-e27f-9bf63e9ca5c3",
        "colab": {
          "base_uri": "https://localhost:8080/",
          "height": 336
        }
      },
      "source": [
        "learn.lr_find()\n",
        "learn.recorder.plot(suggestion= True, skip_end=15)"
      ],
      "execution_count": 0,
      "outputs": [
        {
          "output_type": "display_data",
          "data": {
            "text/html": [
              ""
            ],
            "text/plain": [
              "<IPython.core.display.HTML object>"
            ]
          },
          "metadata": {
            "tags": []
          }
        },
        {
          "output_type": "stream",
          "text": [
            "LR Finder is complete, type {learner_name}.recorder.plot() to see the graph.\n",
            "Min numerical gradient: 2.75E-04\n",
            "Min loss divided by 10: 6.31E-04\n"
          ],
          "name": "stdout"
        },
        {
          "output_type": "display_data",
          "data": {
            "image/png": "[encoded data removed]",
            "text/plain": [
              "<Figure size 432x288 with 1 Axes>"
            ]
          },
          "metadata": {
            "tags": []
          }
        }
      ]
    },
    {
      "cell_type": "code",
      "metadata": {
        "id": "SonFR-vQiMfE",
        "colab_type": "code",
        "outputId": "8af961c0-3c26-4163-f38a-49e093b23437",
        "colab": {
          "base_uri": "https://localhost:8080/",
          "height": 76
        }
      },
      "source": [
        "learn.freeze_to(-3)\n",
        "learn.fit_one_cycle(1, 3e-4, moms=(0.8,0.7))"
      ],
      "execution_count": 0,
      "outputs": [
        {
          "output_type": "display_data",
          "data": {
            "text/html": [
              "<table border=\"1\" class=\"dataframe\">\n",
              "  <thead>\n",
              "    <tr style=\"text-align: left;\">\n",
              "      <th>epoch</th>\n",
              "      <th>train_loss</th>\n",
              "      <th>valid_loss</th>\n",
              "      <th>accuracy</th>\n",
              "      <th>time</th>\n",
              "    </tr>\n",
              "  </thead>\n",
              "  <tbody>\n",
              "    <tr>\n",
              "      <td>0</td>\n",
              "      <td>0.818160</td>\n",
              "      <td>0.757455</td>\n",
              "      <td>0.676320</td>\n",
              "      <td>1:44:43</td>\n",
              "    </tr>\n",
              "  </tbody>\n",
              "</table>"
            ],
            "text/plain": [
              "<IPython.core.display.HTML object>"
            ]
          },
          "metadata": {
            "tags": []
          }
        }
      ]
    },
    {
      "cell_type": "code",
      "metadata": {
        "id": "xD2BrF8N9jpk",
        "colab_type": "code",
        "outputId": "1f71b0c1-48a8-4b10-e83d-783507a507b8",
        "colab": {
          "base_uri": "https://localhost:8080/",
          "height": 336
        }
      },
      "source": [
        "learn.lr_find()\n",
        "learn.recorder.plot(suggestion= True, skip_end=15)"
      ],
      "execution_count": 0,
      "outputs": [
        {
          "output_type": "display_data",
          "data": {
            "text/html": [
              ""
            ],
            "text/plain": [
              "<IPython.core.display.HTML object>"
            ]
          },
          "metadata": {
            "tags": []
          }
        },
        {
          "output_type": "stream",
          "text": [
            "LR Finder is complete, type {learner_name}.recorder.plot() to see the graph.\n",
            "Min numerical gradient: 3.31E-06\n",
            "Min loss divided by 10: 6.31E-04\n"
          ],
          "name": "stdout"
        },
        {
          "output_type": "display_data",
          "data": {
            "image/png": "[encoded data removed]",
            "text/plain": [
              "<Figure size 432x288 with 1 Axes>"
            ]
          },
          "metadata": {
            "tags": []
          }
        }
      ]
    },
    {
      "cell_type": "code",
      "metadata": {
        "id": "OpjJgPR99l2D",
        "colab_type": "code",
        "outputId": "50645295-bbe4-4f1f-8f9f-1bcb00d2d923",
        "colab": {
          "base_uri": "https://localhost:8080/",
          "height": 76
        }
      },
      "source": [
        "learn.freeze_to(-4)\n",
        "learn.fit_one_cycle(1, 3e-6, moms=(0.8,0.7))"
      ],
      "execution_count": 0,
      "outputs": [
        {
          "output_type": "display_data",
          "data": {
            "text/html": [
              "<table border=\"1\" class=\"dataframe\">\n",
              "  <thead>\n",
              "    <tr style=\"text-align: left;\">\n",
              "      <th>epoch</th>\n",
              "      <th>train_loss</th>\n",
              "      <th>valid_loss</th>\n",
              "      <th>accuracy</th>\n",
              "      <th>time</th>\n",
              "    </tr>\n",
              "  </thead>\n",
              "  <tbody>\n",
              "    <tr>\n",
              "      <td>0</td>\n",
              "      <td>0.754001</td>\n",
              "      <td>0.753345</td>\n",
              "      <td>0.679897</td>\n",
              "      <td>2:10:30</td>\n",
              "    </tr>\n",
              "  </tbody>\n",
              "</table>"
            ],
            "text/plain": [
              "<IPython.core.display.HTML object>"
            ]
          },
          "metadata": {
            "tags": []
          }
        }
      ]
    },
    {
      "cell_type": "code",
      "metadata": {
        "id": "MHM83_n3O4bh",
        "colab_type": "code",
        "colab": {}
      },
      "source": [
        "learn.save('/content/drive/My Drive/Temp/Models/reviews/fine_tuned_classifier')"
      ],
      "execution_count": 0,
      "outputs": []
    },
    {
      "cell_type": "code",
      "metadata": {
        "id": "gkiTo_PDO6SP",
        "colab_type": "code",
        "colab": {}
      },
      "source": [
        "learn.export('/content/drive/My Drive/Temp/Models/reviews/ulmfit_model.pkl')"
      ],
      "execution_count": 0,
      "outputs": []
    },
    {
      "cell_type": "markdown",
      "metadata": {
        "id": "kqn8yCXODfAj",
        "colab_type": "text"
      },
      "source": [
        "### Using BERT\n",
        "Due to the time constraints BERT could not be used. However, BERT would've outperformed both classical NLP methods and ulmfit"
      ]
    },
    {
      "cell_type": "markdown",
      "metadata": {
        "id": "Kyt2Bs1T3tXi",
        "colab_type": "text"
      },
      "source": [
        "## Evaluation on Test Set"
      ]
    },
    {
      "cell_type": "code",
      "metadata": {
        "id": "BYJ700lF3vHW",
        "colab_type": "code",
        "colab": {}
      },
      "source": [
        "#Loading Models\n",
        "\n",
        "#Naive Bayes Model\n",
        "with open('/content/drive/My Drive/Temp/Models/reviews/nb_word.model', 'rb') as f:\n",
        "  nb_model = pickle.load(f)\n",
        "\n",
        "#Logistic Regression model\n",
        "with open('/content/drive/My Drive/Temp/Models/reviews/log_reg.model', 'rb') as f:\n",
        "  log_reg = pickle.load(f)"
      ],
      "execution_count": 0,
      "outputs": []
    },
    {
      "cell_type": "code",
      "metadata": {
        "id": "AP0t8CgqhjJL",
        "colab_type": "code",
        "colab": {}
      },
      "source": [
        "#Loading ULMfit Model\n",
        "learn_ulmfit = load_learner('/content/drive/My Drive/Temp/Models/reviews/', 'ulmfit_model.pkl')"
      ],
      "execution_count": 0,
      "outputs": []
    },
    {
      "cell_type": "code",
      "metadata": {
        "id": "5_jqs9c5dpm2",
        "colab_type": "code",
        "colab": {}
      },
      "source": [
        "#Getting Test data ready\n",
        "#Loading Vectorizer\n",
        "with open('/content/drive/My Drive/Temp/Models/reviews/vectorizer.pkl', 'rb') as f:\n",
        "  vectorizer_word = pickle.load(f)"
      ],
      "execution_count": 0,
      "outputs": []
    },
    {
      "cell_type": "code",
      "metadata": {
        "id": "aNy2RMUnd2GP",
        "colab_type": "code",
        "outputId": "3b2b9517-473a-448e-eb5d-5a6b07ae457a",
        "colab": {
          "base_uri": "https://localhost:8080/",
          "height": 409
        }
      },
      "source": [
        "print(test.shape)\n",
        "test.head(3)"
      ],
      "execution_count": 55,
      "outputs": [
        {
          "output_type": "stream",
          "text": [
            "(133710, 12)\n"
          ],
          "name": "stdout"
        },
        {
          "output_type": "execute_result",
          "data": {
            "text/html": [
              "<div>\n",
              "<style scoped>\n",
              "    .dataframe tbody tr th:only-of-type {\n",
              "        vertical-align: middle;\n",
              "    }\n",
              "\n",
              "    .dataframe tbody tr th {\n",
              "        vertical-align: top;\n",
              "    }\n",
              "\n",
              "    .dataframe thead th {\n",
              "        text-align: right;\n",
              "    }\n",
              "</style>\n",
              "<table border=\"1\" class=\"dataframe\">\n",
              "  <thead>\n",
              "    <tr style=\"text-align: right;\">\n",
              "      <th></th>\n",
              "      <th>review_id</th>\n",
              "      <th>user_id</th>\n",
              "      <th>business_id</th>\n",
              "      <th>stars</th>\n",
              "      <th>useful</th>\n",
              "      <th>funny</th>\n",
              "      <th>cool</th>\n",
              "      <th>text</th>\n",
              "      <th>date</th>\n",
              "      <th>len_text</th>\n",
              "      <th>cleaned_text</th>\n",
              "      <th>cleaned_ml</th>\n",
              "    </tr>\n",
              "  </thead>\n",
              "  <tbody>\n",
              "    <tr>\n",
              "      <th>39251</th>\n",
              "      <td>IHNZ-DwEbJyjEagz5YQYXg</td>\n",
              "      <td>nfQ6z0aX5ImB5ssWrDIBLw</td>\n",
              "      <td>IbMuq-Hj_S_tEo9joFN3Vg</td>\n",
              "      <td>5</td>\n",
              "      <td>3</td>\n",
              "      <td>0</td>\n",
              "      <td>0</td>\n",
              "      <td>My Mom accidentally sat on her glasses a few d...</td>\n",
              "      <td>26/09/2014 02:02</td>\n",
              "      <td>89</td>\n",
              "      <td>my mom accidentally sat on her glasses a few d...</td>\n",
              "      <td>my mom accidentally sit on her glass a few day...</td>\n",
              "    </tr>\n",
              "    <tr>\n",
              "      <th>215288</th>\n",
              "      <td>4Zb1eofRgqdHV7Sm1vUumA</td>\n",
              "      <td>PliiFWekO3t3kLYh3f_yTA</td>\n",
              "      <td>YF4QJ_j-PM7cMZja6K1MwQ</td>\n",
              "      <td>5</td>\n",
              "      <td>10</td>\n",
              "      <td>1</td>\n",
              "      <td>10</td>\n",
              "      <td>This is honestly the only day club worth going...</td>\n",
              "      <td>30/09/2015 02:12</td>\n",
              "      <td>174</td>\n",
              "      <td>this is honestly the only day club worth going...</td>\n",
              "      <td>this be honestly the only day club worth go to...</td>\n",
              "    </tr>\n",
              "    <tr>\n",
              "      <th>277096</th>\n",
              "      <td>xilpR7OSQm9bZmDVU1thCw</td>\n",
              "      <td>ENgL9AxV7uu-v5EUCpF69Q</td>\n",
              "      <td>uczILVmOHqosb7XZeDSlOw</td>\n",
              "      <td>4</td>\n",
              "      <td>5</td>\n",
              "      <td>1</td>\n",
              "      <td>5</td>\n",
              "      <td>We wandered over here after dinner at Yardbird...</td>\n",
              "      <td>2018-09-04 19:16:00</td>\n",
              "      <td>257</td>\n",
              "      <td>we wandered over here after dinner at yardbird...</td>\n",
              "      <td>we wander over here after dinner at yardbird e...</td>\n",
              "    </tr>\n",
              "  </tbody>\n",
              "</table>\n",
              "</div>"
            ],
            "text/plain": [
              "                     review_id  ...                                         cleaned_ml\n",
              "39251   IHNZ-DwEbJyjEagz5YQYXg  ...  my mom accidentally sit on her glass a few day...\n",
              "215288  4Zb1eofRgqdHV7Sm1vUumA  ...  this be honestly the only day club worth go to...\n",
              "277096  xilpR7OSQm9bZmDVU1thCw  ...  we wander over here after dinner at yardbird e...\n",
              "\n",
              "[3 rows x 12 columns]"
            ]
          },
          "metadata": {
            "tags": []
          },
          "execution_count": 55
        }
      ]
    },
    {
      "cell_type": "code",
      "metadata": {
        "id": "3KqMFFjleOXg",
        "colab_type": "code",
        "colab": {}
      },
      "source": [
        "ml_test = vectorizer_word.transform(test['cleaned_ml'])\n",
        "y_ml = test['stars']"
      ],
      "execution_count": 0,
      "outputs": []
    },
    {
      "cell_type": "code",
      "metadata": {
        "id": "OjdoD_yod_84",
        "colab_type": "code",
        "outputId": "379ecb50-49ca-48ff-a2f4-d76a53d81901",
        "colab": {
          "base_uri": "https://localhost:8080/",
          "height": 615
        }
      },
      "source": [
        "#Testing Naive Bayes Model on test Data\n",
        "pred_nb_test = nb_model.predict(ml_test)\n",
        "evaluate_model_preds(y_ml, pred_nb_test)"
      ],
      "execution_count": 51,
      "outputs": [
        {
          "output_type": "stream",
          "text": [
            "F1:  0.5158975857817817\n",
            "----------------------------------------------------------------------------------------------------\n",
            "Accuracy:  0.5750654401316282\n",
            "----------------------------------------------------------------------------------------------------\n"
          ],
          "name": "stdout"
        },
        {
          "output_type": "display_data",
          "data": {
            "text/plain": [
              "<Figure size 720x720 with 0 Axes>"
            ]
          },
          "metadata": {
            "tags": []
          }
        },
        {
          "output_type": "display_data",
          "data": {
            "image/png": "[encoded data removed]",
            "text/plain": [
              "<Figure size 432x288 with 2 Axes>"
            ]
          },
          "metadata": {
            "tags": []
          }
        },
        {
          "output_type": "stream",
          "text": [
            "----------------------------------------------------------------------------------------------------\n",
            "              precision    recall  f1-score   support\n",
            "\n",
            "           1       0.63      0.74      0.68     20131\n",
            "           2       0.34      0.33      0.34     10792\n",
            "           3       0.36      0.37      0.36     14652\n",
            "           4       0.42      0.63      0.50     29215\n",
            "           5       0.86      0.59      0.70     58920\n",
            "\n",
            "    accuracy                           0.58    133710\n",
            "   macro avg       0.52      0.53      0.52    133710\n",
            "weighted avg       0.63      0.58      0.59    133710\n",
            "\n"
          ],
          "name": "stdout"
        }
      ]
    },
    {
      "cell_type": "markdown",
      "metadata": {
        "id": "czDlYRiNgHUV",
        "colab_type": "text"
      },
      "source": [
        "**Not very good scores on test data, where the class imbalance was there, naive bayes doesn't do well on both accuracy and f1 score when compared to its validation results, it also doesn't do that well on classes 2 and 3**"
      ]
    },
    {
      "cell_type": "code",
      "metadata": {
        "id": "0kiXJeDagG5j",
        "colab_type": "code",
        "outputId": "4c8beb5a-117e-4ce5-8b86-1118b8eb6fde",
        "colab": {
          "base_uri": "https://localhost:8080/",
          "height": 615
        }
      },
      "source": [
        "#Testing Logistic Regression Model on test Data\n",
        "pred_lr_test = log_reg.predict(ml_test)\n",
        "evaluate_model_preds(y_ml, pred_lr_test)"
      ],
      "execution_count": 52,
      "outputs": [
        {
          "output_type": "stream",
          "text": [
            "F1:  0.5851704157413693\n",
            "----------------------------------------------------------------------------------------------------\n",
            "Accuracy:  0.6484107396604593\n",
            "----------------------------------------------------------------------------------------------------\n"
          ],
          "name": "stdout"
        },
        {
          "output_type": "display_data",
          "data": {
            "text/plain": [
              "<Figure size 720x720 with 0 Axes>"
            ]
          },
          "metadata": {
            "tags": []
          }
        },
        {
          "output_type": "display_data",
          "data": {
            "image/png": "[encoded data removed]",
            "text/plain": [
              "<Figure size 432x288 with 2 Axes>"
            ]
          },
          "metadata": {
            "tags": []
          }
        },
        {
          "output_type": "stream",
          "text": [
            "----------------------------------------------------------------------------------------------------\n",
            "              precision    recall  f1-score   support\n",
            "\n",
            "           1       0.75      0.79      0.77     20131\n",
            "           2       0.39      0.44      0.41     10792\n",
            "           3       0.42      0.45      0.44     14652\n",
            "           4       0.49      0.57      0.53     29215\n",
            "           5       0.85      0.72      0.78     58920\n",
            "\n",
            "    accuracy                           0.65    133710\n",
            "   macro avg       0.58      0.60      0.59    133710\n",
            "weighted avg       0.67      0.65      0.66    133710\n",
            "\n"
          ],
          "name": "stdout"
        }
      ]
    },
    {
      "cell_type": "markdown",
      "metadata": {
        "id": "LbIvxAfhg_bC",
        "colab_type": "text"
      },
      "source": [
        "**The logistic regression model does better than the naive bayes but still falls short in comparison to its performance on the validation set, it also doesn't do that well on class 2,3 and 4**"
      ]
    },
    {
      "cell_type": "code",
      "metadata": {
        "id": "ODASbbCwgDv1",
        "colab_type": "code",
        "colab": {}
      },
      "source": [
        "#Preparing data for deep learning testing\n",
        "dl_test_data = test.filter(items = ['cleaned_text', 'stars'])\n",
        "dl_test_data.dropna(inplace = True)"
      ],
      "execution_count": 0,
      "outputs": []
    },
    {
      "cell_type": "code",
      "metadata": {
        "id": "GS3UIbgehSZW",
        "colab_type": "code",
        "outputId": "14ecb474-7485-4e1f-96b3-9ce8a0e16189",
        "colab": {
          "base_uri": "https://localhost:8080/",
          "height": 615
        }
      },
      "source": [
        "#Testing on ULMFit\n",
        "#Testing for only 20000 samples as prediction with ulmfit takes some time\n",
        "preds_ulmfit  = [int(str(learn_ulmfit.predict(i)[0])) for i in dl_test_data['cleaned_text'][:20000] ]\n",
        "evaluate_model_preds(dl_test_data['stars'][:20000], preds_ulmfit)"
      ],
      "execution_count": 56,
      "outputs": [
        {
          "output_type": "stream",
          "text": [
            "F1:  0.6695676372052903\n",
            "----------------------------------------------------------------------------------------------------\n",
            "Accuracy:  0.70785\n",
            "----------------------------------------------------------------------------------------------------\n"
          ],
          "name": "stdout"
        },
        {
          "output_type": "display_data",
          "data": {
            "text/plain": [
              "<Figure size 720x720 with 0 Axes>"
            ]
          },
          "metadata": {
            "tags": []
          }
        },
        {
          "output_type": "display_data",
          "data": {
            "image/png": "[encoded data removed]",
            "text/plain": [
              "<Figure size 432x288 with 2 Axes>"
            ]
          },
          "metadata": {
            "tags": []
          }
        },
        {
          "output_type": "stream",
          "text": [
            "----------------------------------------------------------------------------------------------------\n",
            "              precision    recall  f1-score   support\n",
            "\n",
            "           1       0.82      0.81      0.82      2999\n",
            "           2       0.51      0.65      0.57      1645\n",
            "           3       0.56      0.59      0.57      2190\n",
            "           4       0.54      0.62      0.57      4314\n",
            "           5       0.87      0.76      0.81      8852\n",
            "\n",
            "    accuracy                           0.71     20000\n",
            "   macro avg       0.66      0.68      0.67     20000\n",
            "weighted avg       0.73      0.71      0.72     20000\n",
            "\n"
          ],
          "name": "stdout"
        }
      ]
    },
    {
      "cell_type": "markdown",
      "metadata": {
        "id": "ZGqvTiVxiE6W",
        "colab_type": "text"
      },
      "source": [
        "**The deep learning method gives excellent results, close to the validation set results on the test sample, outperforming logistic regression and naive bayes by a long margin, if time were there we could have ensembled BERT and ULMfit to gain even more performance, however, ULMfit will be the model i'll chose for the classification task here**"
      ]
    }
  ]
}